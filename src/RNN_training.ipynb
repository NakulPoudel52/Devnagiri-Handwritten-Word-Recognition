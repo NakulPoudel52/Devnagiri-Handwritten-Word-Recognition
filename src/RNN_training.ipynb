{
  "cells": [
    {
      "cell_type": "code",
      "execution_count": null,
      "metadata": {
        "colab": {
          "base_uri": "https://localhost:8080/"
        },
        "id": "HFQJaQVEqud0",
        "outputId": "2b753bc4-7aaf-4306-a6a9-ca500015f525"
      },
      "outputs": [
        {
          "output_type": "stream",
          "name": "stdout",
          "text": [
            "Mounted at /content/drive\n"
          ]
        }
      ],
      "source": [
        "from google.colab import drive\n",
        "drive.mount('/content/drive')"
      ]
    },
    {
      "cell_type": "code",
      "execution_count": null,
      "metadata": {
        "id": "-ffJMbgjz1_W"
      },
      "outputs": [],
      "source": [
        "# import shutil\n",
        "# shutil. rmtree(/content/HindiSeg)"
      ]
    },
    {
      "cell_type": "code",
      "execution_count": null,
      "metadata": {
        "colab": {
          "base_uri": "https://localhost:8080/"
        },
        "id": "F1M5zWSStAxl",
        "outputId": "20d63b79-87f9-44a6-8914-26357750e502"
      },
      "outputs": [
        {
          "output_type": "stream",
          "name": "stdout",
          "text": [
            "`%tensorflow_version` only switches the major version: 1.x or 2.x.\n",
            "You set: `1.8`. This will be interpreted as: `1.x`.\n",
            "\n",
            "\n",
            "TensorFlow 1.x selected.\n"
          ]
        }
      ],
      "source": [
        "import codecs\n",
        "import numpy as np\n",
        "import os\n",
        "import random\n",
        "import sys\n",
        "import sys\n",
        "%tensorflow_version 1.8\n",
        "import tensorflow as tf\n",
        "import cv2\n",
        "import argparse\n",
        "import editdistance"
      ]
    },
    {
      "cell_type": "code",
      "execution_count": null,
      "metadata": {
        "colab": {
          "base_uri": "https://localhost:8080/"
        },
        "id": "WEOk1D34ybjH",
        "outputId": "2fe60442-d34b-48e2-d6e8-220d37006a37"
      },
      "outputs": [
        {
          "output_type": "stream",
          "name": "stdout",
          "text": [
            "/content/drive/MyDrive/Major_colab\n"
          ]
        }
      ],
      "source": [
        "cd /content/drive/MyDrive/Major_colab"
      ]
    },
    {
      "cell_type": "code",
      "execution_count": null,
      "metadata": {
        "id": "6xnfRfxhxOYY"
      },
      "outputs": [],
      "source": [
        "#  !unzip /content/drive/MyDrive/Major_training/HindiSeg.zip # only run single time"
      ]
    },
    {
      "cell_type": "code",
      "execution_count": null,
      "metadata": {
        "id": "slr-onworvH3"
      },
      "outputs": [],
      "source": [
        "filePath = '/content/drive/MyDrive'"
      ]
    },
    {
      "cell_type": "code",
      "execution_count": null,
      "metadata": {
        "id": "SaTy2eqYtCpD"
      },
      "outputs": [],
      "source": [
        "class Sample:\n",
        "    \"sample from the dataset\"\n",
        "    def __init__(self, gtText, filePath):\n",
        "        self.gtText = gtText\n",
        "        self.filePath = filePath\n",
        "        \n",
        "class Batch:\n",
        "    \"batch containing images and ground truth texts\"\n",
        "    def __init__(self, gtTexts, imgs):\n",
        "        self.imgs = np.stack(imgs, axis=0) #search about stack\n",
        "        self.gtTexts = gtTexts"
      ]
    },
    {
      "cell_type": "code",
      "execution_count": null,
      "metadata": {
        "colab": {
          "base_uri": "https://localhost:8080/"
        },
        "id": "2mFsiyp5uD3q",
        "outputId": "aa875be6-7e0c-4bc7-cd7f-038676fdebf1"
      },
      "outputs": [
        {
          "output_type": "stream",
          "name": "stdout",
          "text": [
            "/content/drive/MyDrive/Major_colab\n"
          ]
        }
      ],
      "source": [
        "cd /content/drive/MyDrive/Major_colab"
      ]
    },
    {
      "cell_type": "code",
      "execution_count": null,
      "metadata": {
        "colab": {
          "base_uri": "https://localhost:8080/",
          "height": 35
        },
        "id": "Q2k07DzOxvjB",
        "outputId": "50e045a8-798c-40e0-fef3-c71d5d1cb0ec"
      },
      "outputs": [
        {
          "output_type": "execute_result",
          "data": {
            "text/plain": [
              "'/content/drive/MyDrive/Major_colab'"
            ],
            "application/vnd.google.colaboratory.intrinsic+json": {
              "type": "string"
            }
          },
          "metadata": {},
          "execution_count": 7
        }
      ],
      "source": [
        "pwd"
      ]
    },
    {
      "cell_type": "code",
      "execution_count": null,
      "metadata": {
        "id": "EUamaizNjHPn"
      },
      "outputs": [],
      "source": [
        "class DataLoader:\n",
        "\n",
        "  def __init__(self, filePath, batchSize, imgSize, maxTextLen):\n",
        "    \"loader for dataset at given location, preprocess images and text according to parameters\"\n",
        "\n",
        "    assert filePath[-1]=='/'  # should end with '/'\n",
        "\n",
        "    self.dataAugmentation = False\n",
        "    self.currIdx = 0\n",
        "    self.batchSize = batchSize\n",
        "    self.imgSize = imgSize\n",
        "    self.samples = []\n",
        "    # use your own path and trick to read the images with the txt file\n",
        "    with codecs.open(filePath+'test.txt', \"r\", encoding='utf-8') as f:\n",
        "      lines = f.readlines()\n",
        "    lines = [x.strip() for x in lines] # removing newline\n",
        "    chars = set()\n",
        "    #print(lines[2]) # just check what in lines\n",
        "    for line in lines:\n",
        "      # ignore comment line\n",
        "      if not line or line[0]=='#':\n",
        "        continue\n",
        "      \n",
        "      lineSplit = line.strip().split(' ') #split into image path and GTT\n",
        "\n",
        "      if lineSplit[0] == '\\ufeff':  # since reading first line give '\\ufeff'\n",
        "        continue\n",
        "\n",
        "      fileName = lineSplit[0]\n",
        "\n",
        "      # GT text are columns starting at 1\n",
        "      gtText = self.truncateLabel(' '.join(lineSplit[1]), maxTextLen)\n",
        "      chars = chars.union(set(list(gtText)))\n",
        "\n",
        "      # check if image is not empty\n",
        "      if not os.path.getsize(fileName):\n",
        "        #bad_samples.append(lineSplit[0] + '.jpg')\n",
        "        continue\n",
        "\n",
        "      # put sample into list\n",
        "      self.samples.append(Sample(gtText, fileName))\n",
        "\n",
        "\n",
        "\n",
        "    # split into training and validation set: 90% - 10%\n",
        "    #splitIdx = int(0.90 * len(self.samples))\n",
        "    splitIdx = 4\n",
        "    self.trainSamples = self.samples[:splitIdx]\n",
        "    self.validationSamples = self.samples[splitIdx:]\n",
        "\n",
        "    # put words into lists\n",
        "    self.trainWords = [x.gtText for x in self.trainSamples]\n",
        "    self.validationWords = [x.gtText for x in self.validationSamples]\n",
        "\n",
        "    # number of randomly chosen samples per epoch for training \n",
        "    self.numTrainSamplesPerEpoch = 25000\n",
        "    \n",
        "    # start with train set\n",
        "    self.trainSet()\n",
        "\n",
        "    # list of all chars in dataset\n",
        "    self.charList = sorted(list(chars))\n",
        "    # \n",
        "    print(\"TrainSet: {}, TestSet: {}\".format(len(self.trainSamples), len(self.validationSamples)))\n",
        "    print(\"Total chars: \",len(self.charList))  # length: 109\n",
        "    charList = ''.join([str(x) for x in self.charList]) #convert strings in list into a single string \n",
        "    print(self.charList)\n",
        "    # uncomment if new ground truth file is added or training from scratch\n",
        "    codecs.open('model/charList.txt','w', encoding='utf-8').write(charList)\n",
        "\n",
        "  def truncateLabel(self, text, maxTextLen):\n",
        "    # ctc_loss can't compute loss if it cannot find a mapping between text label and input \n",
        "    # labels. Repeat letters cost double because of the blank symbol needing to be inserted.\n",
        "    # If a too-long label is provided, ctc_loss returns an infinite gradient\n",
        "    cost = 0\n",
        "    for i in range(len(text)):\n",
        "      if i != 0 and text[i] == text[i-1]:\n",
        "        cost += 2\n",
        "      else:\n",
        "        cost += 1\n",
        "      if cost > maxTextLen:\n",
        "        return text[:i]\n",
        "    return text\n",
        "\n",
        "  def trainSet(self):\n",
        "    \"switch to randomly chosen subset of training set\"\n",
        "    self.dataAugmentation = True\n",
        "    self.currIdx = 0\n",
        "    random.shuffle(self.trainSamples)\n",
        "    self.samples = self.trainSamples[:self.numTrainSamplesPerEpoch]\n",
        "\n",
        "  def validationSet(self):\n",
        "    \"switch to validation set\"\n",
        "    self.dataAugmentation = False\n",
        "    self.currIdx = 0\n",
        "    self.samples = self.validationSamples\n",
        "\n",
        "  def getIteratorInfo(self):\n",
        "    \"current batch index and overall number of batches\"\n",
        "    return (self.currIdx // self.batchSize + 1, len(self.samples) // self.batchSize)\n",
        "\n",
        "  def hasNext(self):\n",
        "    \"iterator\"\n",
        "    print(\"In has next\")\n",
        "    print(self.currIdx , self.batchSize , len(self.samples))\n",
        "    return self.currIdx + self.batchSize <= len(self.samples)\n",
        "    \n",
        "  def getNext(self):\n",
        "    \"iterator\"\n",
        "    batchRange = range(self.currIdx, self.currIdx + self.batchSize)\n",
        "    gtTexts = [self.samples[i].gtText for i in batchRange]\n",
        "    imgs = [preprocess(cv2.imread(self.samples[i].filePath, cv2.IMREAD_GRAYSCALE), self.imgSize, self.dataAugmentation) for i in batchRange]\n",
        "    self.currIdx += self.batchSize\n",
        "    return Batch(gtTexts, imgs)\n"
      ]
    },
    {
      "cell_type": "code",
      "execution_count": null,
      "metadata": {
        "id": "YG6_SDLMO6e-"
      },
      "outputs": [],
      "source": [
        "def preprocess(img, imgSize, dataAugmentation=False):\n",
        "\t\"put img into target img of size imgSize, transpose for TF and normalize gray-values\"\n",
        "\n",
        "\t# there are damaged files in IAM dataset - just use black image instead\n",
        "\tif img is None:\n",
        "\t\timg = np.zeros([imgSize[1], imgSize[0]])\n",
        "\n",
        "\t# create target image and copy sample image into it\n",
        "\t(wt, ht) = imgSize\n",
        "\t(h, w) = img.shape\n",
        "\tfx = w / wt\n",
        "\tfy = h / ht\n",
        "\tf = max(fx, fy)\n",
        "\tnewSize = (max(min(wt, int(w / f)), 1), max(min(ht, int(h / f)), 1)) # scale according to f (result at least 1 and at most wt or ht)\n",
        "\timg = cv2.resize(img, newSize)\n",
        "\ttarget = np.ones([ht, wt]) * 255\n",
        "\ttarget[0:newSize[1], 0:newSize[0]] = img\n",
        "\n",
        "\t# transpose for TF\n",
        "\timg = cv2.transpose(target)\n",
        "\n",
        "\t# normalize\n",
        "\t(m, s) = cv2.meanStdDev(img)\n",
        "\tm = m[0][0]\n",
        "\ts = s[0][0]\n",
        "\timg = img - m\n",
        "\timg = img / s if s>0 else img\n",
        "\treturn img"
      ]
    },
    {
      "cell_type": "code",
      "execution_count": null,
      "metadata": {
        "id": "EQXgd24ojMBA",
        "colab": {
          "base_uri": "https://localhost:8080/"
        },
        "outputId": "98ce7b18-bdfc-45e3-ba11-5c0dfe26a441"
      },
      "outputs": [
        {
          "output_type": "stream",
          "name": "stdout",
          "text": [
            "TrainSet: 4, TestSet: 2\n",
            "Total chars:  22\n",
            "[' ', '-', 'ँ', 'ं', 'उ', 'ग', 'च', 'ज', 'त', 'न', 'ब', 'र', 'व', 'श', 'ष', 'स', 'ा', 'ी', 'ु', 'े', 'ै', '्']\n"
          ]
        }
      ],
      "source": [
        "loader = DataLoader(filePath='data/',batchSize= 2,imgSize= (128,32),maxTextLen= 32)"
      ]
    },
    {
      "cell_type": "code",
      "execution_count": null,
      "metadata": {
        "id": "_z3J_6gYphyR"
      },
      "outputs": [],
      "source": [
        "class FilePaths:\n",
        "    \"filenames and paths to data\"\n",
        "    fnCharList = 'model/charList.txt'\n",
        "    fnAccuracy = 'model/accuracy.txt'\n",
        "    fnTrain = 'data/'\n",
        "    fnInfer = '../data/9.jpg'\n",
        "    fnCorpus = 'data/hindi_vocab.txt'"
      ]
    },
    {
      "cell_type": "code",
      "execution_count": null,
      "metadata": {
        "colab": {
          "base_uri": "https://localhost:8080/"
        },
        "id": "Qj7okzwGzXpk",
        "outputId": "fd3af352-0422-4cc1-88f5-ad8330e41030"
      },
      "outputs": [
        {
          "output_type": "execute_result",
          "data": {
            "text/plain": [
              "83"
            ]
          },
          "metadata": {},
          "execution_count": 12
        }
      ],
      "source": [
        "# save characters of model for inference mode\n",
        "open(FilePaths.fnCharList, 'w', encoding='UTF-8').write(str().join(loader.charList))\n",
        "\n",
        "# save words contained in dataset into file\n",
        "open(FilePaths.fnCorpus, 'w', encoding='UTF-8').write(str(' ').join(loader.trainWords + loader.validationWords))"
      ]
    },
    {
      "cell_type": "code",
      "execution_count": null,
      "metadata": {
        "id": "OCySrDCmr-54"
      },
      "outputs": [],
      "source": [
        "class DecoderType:\n",
        "\tBestPath = 0\n",
        "\tBeamSearch = 1\n",
        "\tWordBeamSearch = 2"
      ]
    },
    {
      "cell_type": "code",
      "execution_count": null,
      "metadata": {
        "id": "EBffKtxzzny0"
      },
      "outputs": [],
      "source": [
        "class Model: \n",
        "    \"minimalistic TF model for HTR\"\n",
        "\n",
        "    # model constants\n",
        "    batchSize = 25\n",
        "    imgSize = (128, 32)\n",
        "    maxTextLen = 32\n",
        "\n",
        "    def __init__(self, charList, decoderType=DecoderType.BestPath, mustRestore=False):\n",
        "        \"init model: add CNN, RNN and CTC and initialize TF\"\n",
        "        self.charList = charList\n",
        "        self.decoderType = decoderType\n",
        "        self.mustRestore = mustRestore\n",
        "        self.snapID = 0\n",
        "\n",
        "        # input image batch\n",
        "        self.inputImgs = tf.placeholder(tf.float32, shape=(None, Model.imgSize[0], Model.imgSize[1]))\n",
        "        # batch dimension set to None, it will be fixed at runtime\n",
        "\n",
        "        # setup CNN, RNN and CTC\n",
        "        self.setupCNN()\n",
        "        self.setupRNN()\n",
        "        self.setupCTC()\n",
        "\n",
        "        # setup optimizer to train NN\n",
        "        self.batchesTrained = 0\n",
        "        self.learningRate = tf.placeholder(tf.float32, shape=[])\n",
        "        self.optimizer = tf.train.RMSPropOptimizer(self.learningRate).minimize(self.loss)\n",
        "        print('Learning Rate is ',self.learningRate)\n",
        "        # initialize TF\n",
        "        (self.sess, self.saver) = self.setupTF()\n",
        "\n",
        "\n",
        "    def setupCNN(self):\n",
        "        \"create CNN layers and return output of these layers\"\n",
        "        cnnIn4d = tf.expand_dims(input=self.inputImgs, axis=3)\n",
        "\n",
        "        # list of parameters for the layers\n",
        "        kernelVals = [5, 5, 3, 3, 3]\n",
        "        featureVals = [1, 32, 64, 128, 128, 256]\n",
        "        strideVals = poolVals = [(2,2), (2,2), (1,2), (1,2), (1,2)]\n",
        "        numLayers = len(strideVals)\n",
        "\n",
        "        # create layers\n",
        "        pool = cnnIn4d # input to first CNN layer\n",
        "        for i in range(numLayers):\n",
        "            kernel = tf.Variable(tf.truncated_normal([kernelVals[i], kernelVals[i], featureVals[i], featureVals[i + 1]], stddev=0.1))\n",
        "            conv = tf.nn.conv2d(pool, kernel, padding='SAME',  strides=(1,1,1,1))\n",
        "            relu = tf.nn.relu(conv)\n",
        "            pool = tf.nn.max_pool(relu, (1, poolVals[i][0], poolVals[i][1], 1), (1, strideVals[i][0], strideVals[i][1], 1), 'VALID')\n",
        "\n",
        "        self.cnnOut4d = pool\n",
        "        print(\"CNN output shape:\",pool.get_shape())\n",
        "\n",
        "    def setupRNN(self):\n",
        "        \"create RNN layers and return output of these layers\"\n",
        "        rnnIn3d = tf.squeeze(self.cnnOut4d, axis=[2])\n",
        "\n",
        "        # basic cells which is used to build RNN\n",
        "        numHidden = 256\n",
        "        cells = [tf.contrib.rnn.LSTMCell(num_units=numHidden, state_is_tuple=True) for _ in range(2)] # 2 layers\n",
        "\n",
        "        # stack basic cells\n",
        "        stacked = tf.contrib.rnn.MultiRNNCell(cells, state_is_tuple=True)\n",
        "\n",
        "        # bidirectional RNN\n",
        "        # BxTxF -> BxTx2H\n",
        "        ((fw, bw), _) = tf.nn.bidirectional_dynamic_rnn(cell_fw=stacked, cell_bw=stacked, inputs=rnnIn3d, dtype=rnnIn3d.dtype)\n",
        "\n",
        "        # BxTxH + BxTxH -> BxTx2H -> BxTx1X2H\n",
        "        concat = tf.expand_dims(tf.concat([fw, bw], 2), 2)\n",
        "\n",
        "        # project output to chars (including blank): BxTx1x2H -> BxTx1xC -> BxTxC\n",
        "        kernel = tf.Variable(tf.truncated_normal([1, 1, numHidden * 2, len(self.charList) + 1], stddev=0.1))\n",
        "        self.rnnOut3d = tf.squeeze(tf.nn.atrous_conv2d(value=concat, filters=kernel, rate=1, padding='SAME'), axis=[2])\n",
        "\n",
        "        print(\"RNN_OUT Shape:\", self.rnnOut3d.get_shape())\n",
        "\n",
        "    def setupCTC(self):\n",
        "        \"create CTC loss and decoder and return them\"\n",
        "        # BxTxC -> TxBxC\n",
        "        self.ctcIn3dTBC = tf.transpose(self.rnnOut3d, [1, 0, 2])\n",
        "        # ground truth text as sparse tensor\n",
        "        self.gtTexts = tf.SparseTensor(tf.placeholder(tf.int64, shape=[None, 2]) , tf.placeholder(tf.int32, [None]), tf.placeholder(tf.int64, [2]))\n",
        "\n",
        "        # calc loss for batch\n",
        "        self.seqLen = tf.placeholder(tf.int32, [None])\n",
        "        self.loss = tf.reduce_mean(tf.nn.ctc_loss(labels=self.gtTexts, inputs=self.ctcIn3dTBC, sequence_length=self.seqLen, ctc_merge_repeated=True))\n",
        "\n",
        "        # calc loss for each element to compute label probability\n",
        "        self.savedCtcInput = tf.placeholder(tf.float32, shape=[Model.maxTextLen, None, len(self.charList) + 1])\n",
        "        self.lossPerElement = tf.nn.ctc_loss(labels=self.gtTexts, inputs=self.savedCtcInput, sequence_length=self.seqLen, ctc_merge_repeated=True)\n",
        "\n",
        "        # decoder: either best path decoding or beam search decoding\n",
        "        if self.decoderType == DecoderType.BestPath:\n",
        "            self.decoder = tf.nn.ctc_greedy_decoder(inputs=self.ctcIn3dTBC, sequence_length=self.seqLen)\n",
        "        elif self.decoderType == DecoderType.BeamSearch:\n",
        "            self.decoder = tf.nn.ctc_beam_search_decoder(inputs=self.ctcIn3dTBC, sequence_length=self.seqLen, beam_width=50, merge_repeated=False)\n",
        "        elif self.decoderType == DecoderType.WordBeamSearch:\n",
        "            # import compiled word beam search operation (see https://github.com/githubharald/CTCWordBeamSearch)\n",
        "            word_beam_search_module = tf.load_op_library('TFWordBeamSearch.so')\n",
        "\n",
        "            # prepare information about language (dictionary, characters in dataset, characters forming words) \n",
        "            chars = str().join(self.charList)\n",
        "            wordChars = open('model/wordCharList.txt').read().splitlines()[0]\n",
        "            corpus = open('data/corpus.txt').read()\n",
        "\n",
        "            # decode using the \"Words\" mode of word beam search\n",
        "            self.decoder = word_beam_search_module.word_beam_search(tf.nn.softmax(self.ctcIn3dTBC, dim=2), 50, 'Words', 0.0, corpus.encode('utf8'), chars.encode('utf8'), wordChars.encode('utf8'))\n",
        "\n",
        "    def setupTF(self):\n",
        "        \"initialize TF\"\n",
        "        print('Python: '+sys.version)\n",
        "        print('Tensorflow: '+tf.__version__)\n",
        "\n",
        "        sess=tf.Session() # TF session\n",
        "\n",
        "        saver = tf.train.Saver(max_to_keep=1) # saver saves model to file\n",
        "        modelDir = 'model/'\n",
        "        latestSnapshot = tf.train.latest_checkpoint(modelDir) # is there a saved model?\n",
        "\n",
        "        # if model must be restored (for inference), there must be a snapshot\n",
        "        if self.mustRestore and not latestSnapshot:\n",
        "            raise Exception('No saved model found in: ' + modelDir)\n",
        "\n",
        "        # load saved model if available\n",
        "        if latestSnapshot:\n",
        "            print('Init with stored values from ' + latestSnapshot)\n",
        "            saver.restore(sess, latestSnapshot)\n",
        "        else:\n",
        "            print('Init with new values')\n",
        "            sess.run(tf.global_variables_initializer())\n",
        "\n",
        "        return (sess,saver)\n",
        "\n",
        "\n",
        "    def toSparse(self, texts):\n",
        "        \"put ground truth texts into sparse tensor for ctc_loss\"\n",
        "        print(\"Inside the tosparse\")\n",
        "        print(texts)\n",
        "        indices = []\n",
        "        values = []\n",
        "        shape = [len(texts), 0] # last entry must be max(labelList[i])\n",
        "\n",
        "        # go over all texts\n",
        "        for (batchElement, text) in enumerate(texts):\n",
        "            # convert to string of label (i.e. class-ids)\n",
        "            labelStr = [self.charList.index(c) for c in text]\n",
        "            print(text,len(text))\n",
        "            print('Label str',labelStr)\n",
        "            print('Length',len(labelStr))\n",
        "            print('Shape[1]',shape[1])\n",
        "            # sparse tensor must have size of max. label-string\n",
        "            if len(labelStr) > shape[1]:\n",
        "                shape[1] = len(labelStr)\n",
        "            # put each label into sparse tensor\n",
        "            for (i, label) in enumerate(labelStr):\n",
        "                indices.append([batchElement, i])\n",
        "                values.append(label)\n",
        "            print('indices',indices)\n",
        "            print(values)\n",
        "        return (indices, values, shape)  # for label in ctc loss\n",
        "\n",
        "\n",
        "    def decoderOutputToText(self, ctcOutput, batchSize):\n",
        "        \"extract texts from output of CTC decoder\"\n",
        "\n",
        "        # contains string of labels for each batch element\n",
        "        encodedLabelStrs = [[] for i in range(batchSize)]\n",
        "\n",
        "        # word beam search: label strings terminated by blank\n",
        "        if self.decoderType == DecoderType.WordBeamSearch:\n",
        "            blank=len(self.charList)\n",
        "            for b in range(batchSize):\n",
        "                for label in ctcOutput[b]:\n",
        "                    if label== blank:\n",
        "                        break\n",
        "                    encodedLabelStrs[b].append(label)\n",
        "\n",
        "\n",
        "            # go over all indices and save mapping: batch -> values\n",
        "            idxDict = { b : [] for b in range(batchSize) }\n",
        "            for (idx, idx2d) in enumerate(decoded.indices):\n",
        "                label = decoded.values[idx]\n",
        "                batchElement = idx2d[0] # index according to [b,t]\n",
        "                encodedLabelStrs[batchElement].append(label)\n",
        "\n",
        "        # TF decoders: label strings are contained in sparse tensor\n",
        "        else:\n",
        "            # ctc returns tuple, first element is SparseTensor \n",
        "            decoded=ctcOutput[0][0] \n",
        "        # map labels to chars for all batch elements\n",
        "        return [str().join([self.charList[c] for c in labelStr]) for labelStr in encodedLabelStrs]\n",
        "\n",
        "\n",
        "    def trainBatch(self, batch):\n",
        "        \"feed a batch into the NN to train it\"\n",
        "        numBatchElements = len(batch.imgs)\n",
        "        sparse = self.toSparse(batch.gtTexts)\n",
        "        rate = 0.0001 #0.01 if self.batchesTrained < 10 else (0.001 if self.batchesTrained < 10000 else 0.0001) # decay learning rate\n",
        "        evalList = [self.optimizer, self.loss]\n",
        "        feedDict = {self.inputImgs : batch.imgs, self.gtTexts : sparse , self.seqLen : [Model.maxTextLen] * numBatchElements, self.learningRate : rate}\n",
        "        (_, lossVal) = self.sess.run(evalList, feedDict)\n",
        "        self.batchesTrained += 1\n",
        "        return lossVal\n",
        "\n",
        "\n",
        "    def inferBatch(self, batch, calcProbability=False, probabilityOfGT=False):\n",
        "        \"feed a batch into the NN to recngnize the texts\"\n",
        "\n",
        "        # decode, optionally save RNN output\n",
        "        numBatchElements = len(batch.imgs)\n",
        "        evalList = [self.decoder] + ([self.ctcIn3dTBC] if calcProbability else [])\n",
        "        feedDict = {self.inputImgs : batch.imgs, self.seqLen : [Model.maxTextLen] * numBatchElements}\n",
        "        evalRes = self.sess.run([self.decoder, self.ctcIn3dTBC], feedDict)\n",
        "        decoded = evalRes[0]\n",
        "        texts = self.decoderOutputToText(decoded, numBatchElements)\n",
        "\n",
        "        # feed RNN output and recognized text into CTC loss to compute labeling probability\n",
        "        probs = None\n",
        "        if calcProbability:\n",
        "            sparse = self.toSparse(batch.gtTexts) if probabilityOfGT else self.toSparse(texts)\n",
        "            ctcInput = evalRes[1]\n",
        "            evalList = self.lossPerElement\n",
        "            feedDict = {self.savedCtcInput : ctcInput, self.gtTexts : sparse, self.seqLen : [Model.maxTextLen] * numBatchElements}\n",
        "            lossVals = self.sess.run(evalList, feedDict)\n",
        "            probs = np.exp(-lossVals)\n",
        "        return (texts, probs)\n",
        "\n",
        "\n",
        "    def save(self):\n",
        "        \"save model to file\"\n",
        "        self.snapID += 1\n",
        "        self.saver.save(self.sess, 'model/snapshot', global_step=self.snapID)\n"
      ]
    },
    {
      "cell_type": "code",
      "execution_count": null,
      "metadata": {
        "id": "8huIwitBShv-"
      },
      "outputs": [],
      "source": [
        "lossv = []\n",
        "def validate(model, loader):\n",
        "    \"validate NN\"\n",
        "    print('Validate NN')\n",
        "    loader.validationSet()\n",
        "    # print(loader.samples)\n",
        "    numCharErr = 0\n",
        "    numCharTotal = 0\n",
        "    numWordOK = 0\n",
        "    numWordTotal = 0\n",
        "    # print(loader.hasNext())\n",
        "    while loader.hasNext():\n",
        "        iterInfo = loader.getIteratorInfo()\n",
        "        print('Batch:', iterInfo[0],'/', iterInfo[1])\n",
        "        batch = loader.getNext()\n",
        "        loss = model.trainBatch(batch)\n",
        "        lossv.append(loss)\n",
        "\n",
        "        (recognized, _) = model.inferBatch(batch)\n",
        "        print(recognized)\n",
        "        print('Ground truth -> Recognized')\n",
        "        for i in range(len(recognized)):\n",
        "            numWordOK += 1 if batch.gtTexts[i] == recognized[i] else 0\n",
        "            numWordTotal += 1\n",
        "            dist = editdistance.eval(recognized[i], batch.gtTexts[i])\n",
        "            numCharErr += dist\n",
        "            numCharTotal += len(batch.gtTexts[i])\n",
        "            print('[OK]' if dist==0 else '[ERR:%d]' % dist,'\"' + batch.gtTexts[i] + '\"', '->', '\"' + recognized[i] + '\"')\n",
        "    loss = sum(lossv)/len(lossv)\n",
        "    file1 = open(\"model/lossvalidation.txt\", \"a\")  # append mode\n",
        "    file1.write(str(loss)+\"\\n\")\n",
        "    file1.close()\n",
        "\n",
        "    # print validation result\n",
        "    charErrorRate = numCharErr / numCharTotal\n",
        "    file1 = open(\"model/charerrrate.txt\", \"a\")  # append mode\n",
        "    file1.write(str(charErrorRate)+\"\\n\")\n",
        "    file1.close()\n",
        "\n",
        "    wordAccuracy = numWordOK / numWordTotal\n",
        "    file1 = open(\"model/accuracyvalidation.txt\", \"a\")  # append mode\n",
        "    file1.write(str(wordAccuracy)+\"\\n\")\n",
        "    file1.close()\n",
        "    print('Character error rate: %f%%. Word accuracy: %f%%.' % (charErrorRate*100.0, wordAccuracy*100.0))\n",
        "    return charErrorRate"
      ]
    },
    {
      "cell_type": "code",
      "execution_count": null,
      "metadata": {
        "id": "f5xqJ35izvvf"
      },
      "outputs": [],
      "source": [
        "\n",
        "def train(model, loader):\n",
        "    \"train NN\"\n",
        "    epoch = 0 # number of training epochs since start\n",
        "    bestCharErrorRate = float('inf') # best valdiation character error rate\n",
        "    noImprovementSince = 0 # number of epochs no improvement of character error rate occured\n",
        "    earlyStopping = 5 # stop training after this number of   epochs without improvement\n",
        "    while True:\n",
        "        losst = []\n",
        "        epoch += 1\n",
        "        print('Epoch:', epoch)\n",
        "\n",
        "        # train\n",
        "        print('Train NN')\n",
        "        loader.trainSet()\n",
        "        numCharErr = 0\n",
        "        numCharTotal = 0\n",
        "        numWordOK = 0\n",
        "        numWordTotal = 0\n",
        "        while loader.hasNext():\n",
        "            iterInfo = loader.getIteratorInfo()\n",
        "            batch = loader.getNext()\n",
        "            loss = model.trainBatch(batch)\n",
        "            print('Batch:', iterInfo[0],'/', iterInfo[1], 'Loss:', loss)\n",
        "            losst.append(loss)\n",
        "            (recognized, _) = model.inferBatch(batch)\n",
        "            # \n",
        "            for i in range(len(recognized)):\n",
        "              numWordOK += 1 if batch.gtTexts[i] == recognized[i] else 0\n",
        "              numWordTotal += 1\n",
        "              dist = editdistance.eval(recognized[i], batch.gtTexts[i])\n",
        "              numCharErr += dist\n",
        "              numCharTotal += len(batch.gtTexts[i])\n",
        "              print('[OK]' if dist==0 else '[ERR:%d]' % dist,'\"' + batch.gtTexts[i] + '\"', '->', '\"' + recognized[i] + '\"')\n",
        "            # \n",
        "        wordAccuracy = numWordOK / numWordTotal\n",
        "        file1 = open(\"model/accuracytrain.txt\", \"a\")  # append mode\n",
        "        file1.write(str(wordAccuracy)+\"\\n\")\n",
        "        file1.close()   \n",
        "        loss = sum(losst)/len(losst)\n",
        "        file1 = open(\"model/losstrain.txt\", \"a\")  # append mode\n",
        "        file1.write(str(loss)+\"\\n\")\n",
        "        file1.close()\n",
        "\n",
        "\n",
        "        # validate\n",
        "        charErrorRate = validate(model, loader)\n",
        "\n",
        "        # if best validation accuracy so far, save model parameters\n",
        "        if charErrorRate < bestCharErrorRate:\n",
        "            print('Character error rate improved, save model')\n",
        "            bestCharErrorRate = charErrorRate\n",
        "            noImprovementSince = 0\n",
        "            model.save()\n",
        "            open(FilePaths.fnAccuracy, 'w').write('Validation character error rate of saved model: %f%%' % (charErrorRate*100.0))\n",
        "        else:\n",
        "            print('Character error rate not improved')\n",
        "            noImprovementSince += 1\n",
        "\n",
        "        # stop training if no more improvement in the last x epochs\n",
        "        if noImprovementSince >= earlyStopping:\n",
        "            print('No more improvement since %d epochs. Training stopped.' % earlyStopping)\n",
        "            break"
      ]
    },
    {
      "cell_type": "code",
      "execution_count": null,
      "metadata": {
        "id": "0yBGsy90z38U",
        "colab": {
          "base_uri": "https://localhost:8080/"
        },
        "outputId": "22857d41-e5aa-444c-f8b5-acce5ffef6f7"
      },
      "outputs": [
        {
          "output_type": "stream",
          "name": "stdout",
          "text": [
            "CNN output shape: (?, 32, 1, 256)\n",
            "WARNING:tensorflow:\n",
            "The TensorFlow contrib module will not be included in TensorFlow 2.0.\n",
            "For more information, please see:\n",
            "  * https://github.com/tensorflow/community/blob/master/rfcs/20180907-contrib-sunset.md\n",
            "  * https://github.com/tensorflow/addons\n",
            "  * https://github.com/tensorflow/io (for I/O related ops)\n",
            "If you depend on functionality not listed there, please file an issue.\n",
            "\n",
            "WARNING:tensorflow:From <ipython-input-14-e149be1b6a1b>:61: LSTMCell.__init__ (from tensorflow.python.ops.rnn_cell_impl) is deprecated and will be removed in a future version.\n",
            "Instructions for updating:\n",
            "This class is equivalent as tf.keras.layers.LSTMCell, and will be replaced by that in Tensorflow 2.0.\n",
            "WARNING:tensorflow:From <ipython-input-14-e149be1b6a1b>:64: MultiRNNCell.__init__ (from tensorflow.python.ops.rnn_cell_impl) is deprecated and will be removed in a future version.\n",
            "Instructions for updating:\n",
            "This class is equivalent as tf.keras.layers.StackedRNNCells, and will be replaced by that in Tensorflow 2.0.\n",
            "WARNING:tensorflow:From <ipython-input-14-e149be1b6a1b>:68: bidirectional_dynamic_rnn (from tensorflow.python.ops.rnn) is deprecated and will be removed in a future version.\n",
            "Instructions for updating:\n",
            "Please use `keras.layers.Bidirectional(keras.layers.RNN(cell))`, which is equivalent to this API\n",
            "WARNING:tensorflow:From /tensorflow-1.15.2/python3.7/tensorflow_core/python/ops/rnn.py:464: dynamic_rnn (from tensorflow.python.ops.rnn) is deprecated and will be removed in a future version.\n",
            "Instructions for updating:\n",
            "Please use `keras.layers.RNN(cell)`, which is equivalent to this API\n",
            "WARNING:tensorflow:From /tensorflow-1.15.2/python3.7/tensorflow_core/python/ops/rnn_cell_impl.py:958: Layer.add_variable (from tensorflow.python.keras.engine.base_layer) is deprecated and will be removed in a future version.\n",
            "Instructions for updating:\n",
            "Please use `layer.add_weight` method instead.\n",
            "WARNING:tensorflow:From /tensorflow-1.15.2/python3.7/tensorflow_core/python/ops/rnn_cell_impl.py:962: calling Zeros.__init__ (from tensorflow.python.ops.init_ops) with dtype is deprecated and will be removed in a future version.\n",
            "Instructions for updating:\n",
            "Call initializer instance with the dtype argument instead of passing it to the constructor\n",
            "RNN_OUT Shape: (?, 32, 23)\n",
            "WARNING:tensorflow:From /tensorflow-1.15.2/python3.7/tensorflow_core/python/training/rmsprop.py:119: calling Ones.__init__ (from tensorflow.python.ops.init_ops) with dtype is deprecated and will be removed in a future version.\n",
            "Instructions for updating:\n",
            "Call initializer instance with the dtype argument instead of passing it to the constructor\n",
            "Learning Rate is  Tensor(\"Placeholder_6:0\", shape=(), dtype=float32)\n",
            "Python: 3.7.13 (default, Mar 16 2022, 17:37:17) \n",
            "[GCC 7.5.0]\n",
            "Tensorflow: 1.15.2\n",
            "Init with stored values from model/snapshot-2\n",
            "INFO:tensorflow:Restoring parameters from model/snapshot-2\n"
          ]
        }
      ],
      "source": [
        "decoderType = DecoderType.BestPath\n",
        "model = Model(loader.charList, decoderType) #0 --> best path"
      ]
    },
    {
      "cell_type": "code",
      "execution_count": null,
      "metadata": {
        "id": "aJyQ6cRbJPc6"
      },
      "outputs": [],
      "source": []
    },
    {
      "cell_type": "code",
      "execution_count": null,
      "metadata": {
        "colab": {
          "base_uri": "https://localhost:8080/"
        },
        "id": "yLNjT8PG9W_8",
        "outputId": "2f6e897e-1318-4e6e-b669-8a360c26d632"
      },
      "outputs": [
        {
          "output_type": "stream",
          "name": "stdout",
          "text": [
            "Epoch: 1\n",
            "Train NN\n",
            "In has next\n",
            "0 2 4\n",
            "Inside the tosparse\n",
            "['ग ै र - च ु न ा व ी', 'र ं ग र े ज व ा']\n",
            "ग ै र - च ु न ा व ी 19\n",
            "Label str [5, 0, 20, 0, 11, 0, 1, 0, 6, 0, 18, 0, 9, 0, 16, 0, 12, 0, 17] 19\n",
            "Length 19\n",
            "Shape[1] 0\n",
            "indices [[0, 0], [0, 1], [0, 2], [0, 3], [0, 4], [0, 5], [0, 6], [0, 7], [0, 8], [0, 9], [0, 10], [0, 11], [0, 12], [0, 13], [0, 14], [0, 15], [0, 16], [0, 17], [0, 18]]\n",
            "[5, 0, 20, 0, 11, 0, 1, 0, 6, 0, 18, 0, 9, 0, 16, 0, 12, 0, 17]\n",
            "र ं ग र े ज व ा 15\n",
            "Label str [11, 0, 3, 0, 5, 0, 11, 0, 19, 0, 7, 0, 12, 0, 16] 15\n",
            "Length 15\n",
            "Shape[1] 19\n",
            "indices [[0, 0], [0, 1], [0, 2], [0, 3], [0, 4], [0, 5], [0, 6], [0, 7], [0, 8], [0, 9], [0, 10], [0, 11], [0, 12], [0, 13], [0, 14], [0, 15], [0, 16], [0, 17], [0, 18], [1, 0], [1, 1], [1, 2], [1, 3], [1, 4], [1, 5], [1, 6], [1, 7], [1, 8], [1, 9], [1, 10], [1, 11], [1, 12], [1, 13], [1, 14]]\n",
            "[5, 0, 20, 0, 11, 0, 1, 0, 6, 0, 18, 0, 9, 0, 16, 0, 12, 0, 17, 11, 0, 3, 0, 5, 0, 11, 0, 19, 0, 7, 0, 12, 0, 16]\n",
            "Batch: 1 / 2 Loss: 35.932404\n",
            "[ERR:18] \"ग ै र - च ु न ा व ी\" -> \" \"\n",
            "[ERR:14] \"र ं ग र े ज व ा\" -> \" \"\n",
            "In has next\n",
            "2 2 4\n",
            "Inside the tosparse\n",
            "['स ब न े', 'श ा स ् त ् र ी']\n",
            "स ब न े 7\n",
            "Label str [15, 0, 10, 0, 9, 0, 19] 7\n",
            "Length 7\n",
            "Shape[1] 0\n",
            "indices [[0, 0], [0, 1], [0, 2], [0, 3], [0, 4], [0, 5], [0, 6]]\n",
            "[15, 0, 10, 0, 9, 0, 19]\n",
            "श ा स ् त ् र ी 15\n",
            "Label str [13, 0, 16, 0, 15, 0, 21, 0, 8, 0, 21, 0, 11, 0, 17] 15\n",
            "Length 15\n",
            "Shape[1] 7\n",
            "indices [[0, 0], [0, 1], [0, 2], [0, 3], [0, 4], [0, 5], [0, 6], [1, 0], [1, 1], [1, 2], [1, 3], [1, 4], [1, 5], [1, 6], [1, 7], [1, 8], [1, 9], [1, 10], [1, 11], [1, 12], [1, 13], [1, 14]]\n",
            "[15, 0, 10, 0, 9, 0, 19, 13, 0, 16, 0, 15, 0, 21, 0, 8, 0, 21, 0, 11, 0, 17]\n",
            "Batch: 2 / 2 Loss: 26.400679\n",
            "[ERR:6] \"स ब न े\" -> \" \"\n",
            "[ERR:14] \"श ा स ् त ् र ी\" -> \" \"\n",
            "In has next\n",
            "4 2 4\n",
            "Validate NN\n",
            "In has next\n",
            "0 2 2\n",
            "Batch: 1 / 1\n",
            "Inside the tosparse\n",
            "['र े स ् त ् र ा ँ', 'उ ष ा']\n",
            "र े स ् त ् र ा ँ 17\n",
            "Label str [11, 0, 19, 0, 15, 0, 21, 0, 8, 0, 21, 0, 11, 0, 16, 0, 2] 17\n",
            "Length 17\n",
            "Shape[1] 0\n",
            "indices [[0, 0], [0, 1], [0, 2], [0, 3], [0, 4], [0, 5], [0, 6], [0, 7], [0, 8], [0, 9], [0, 10], [0, 11], [0, 12], [0, 13], [0, 14], [0, 15], [0, 16]]\n",
            "[11, 0, 19, 0, 15, 0, 21, 0, 8, 0, 21, 0, 11, 0, 16, 0, 2]\n",
            "उ ष ा 5\n",
            "Label str [4, 0, 14, 0, 16] 5\n",
            "Length 5\n",
            "Shape[1] 17\n",
            "indices [[0, 0], [0, 1], [0, 2], [0, 3], [0, 4], [0, 5], [0, 6], [0, 7], [0, 8], [0, 9], [0, 10], [0, 11], [0, 12], [0, 13], [0, 14], [0, 15], [0, 16], [1, 0], [1, 1], [1, 2], [1, 3], [1, 4]]\n",
            "[11, 0, 19, 0, 15, 0, 21, 0, 8, 0, 21, 0, 11, 0, 16, 0, 2, 4, 0, 14, 0, 16]\n",
            "[' ', ' ']\n",
            "Ground truth -> Recognized\n",
            "[ERR:16] \"र े स ् त ् र ा ँ\" -> \" \"\n",
            "[ERR:4] \"उ ष ा\" -> \" \"\n",
            "In has next\n",
            "2 2 2\n",
            "Character error rate: 90.909091%. Word accuracy: 0.000000%.\n",
            "Character error rate improved, save model\n",
            "Epoch: 2\n",
            "Train NN\n",
            "In has next\n",
            "0 2 4\n",
            "Inside the tosparse\n",
            "['श ा स ् त ् र ी', 'र ं ग र े ज व ा']\n",
            "श ा स ् त ् र ी 15\n",
            "Label str [13, 0, 16, 0, 15, 0, 21, 0, 8, 0, 21, 0, 11, 0, 17] 15\n",
            "Length 15\n",
            "Shape[1] 0\n",
            "indices [[0, 0], [0, 1], [0, 2], [0, 3], [0, 4], [0, 5], [0, 6], [0, 7], [0, 8], [0, 9], [0, 10], [0, 11], [0, 12], [0, 13], [0, 14]]\n",
            "[13, 0, 16, 0, 15, 0, 21, 0, 8, 0, 21, 0, 11, 0, 17]\n",
            "र ं ग र े ज व ा 15\n",
            "Label str [11, 0, 3, 0, 5, 0, 11, 0, 19, 0, 7, 0, 12, 0, 16] 15\n",
            "Length 15\n",
            "Shape[1] 15\n",
            "indices [[0, 0], [0, 1], [0, 2], [0, 3], [0, 4], [0, 5], [0, 6], [0, 7], [0, 8], [0, 9], [0, 10], [0, 11], [0, 12], [0, 13], [0, 14], [1, 0], [1, 1], [1, 2], [1, 3], [1, 4], [1, 5], [1, 6], [1, 7], [1, 8], [1, 9], [1, 10], [1, 11], [1, 12], [1, 13], [1, 14]]\n",
            "[13, 0, 16, 0, 15, 0, 21, 0, 8, 0, 21, 0, 11, 0, 17, 11, 0, 3, 0, 5, 0, 11, 0, 19, 0, 7, 0, 12, 0, 16]\n",
            "Batch: 1 / 2 Loss: 31.438637\n",
            "[ERR:14] \"श ा स ् त ् र ी\" -> \" \"\n",
            "[ERR:14] \"र ं ग र े ज व ा\" -> \" \"\n",
            "In has next\n",
            "2 2 4\n",
            "Inside the tosparse\n",
            "['ग ै र - च ु न ा व ी', 'स ब न े']\n",
            "ग ै र - च ु न ा व ी 19\n",
            "Label str [5, 0, 20, 0, 11, 0, 1, 0, 6, 0, 18, 0, 9, 0, 16, 0, 12, 0, 17] 19\n",
            "Length 19\n",
            "Shape[1] 0\n",
            "indices [[0, 0], [0, 1], [0, 2], [0, 3], [0, 4], [0, 5], [0, 6], [0, 7], [0, 8], [0, 9], [0, 10], [0, 11], [0, 12], [0, 13], [0, 14], [0, 15], [0, 16], [0, 17], [0, 18]]\n",
            "[5, 0, 20, 0, 11, 0, 1, 0, 6, 0, 18, 0, 9, 0, 16, 0, 12, 0, 17]\n",
            "स ब न े 7\n",
            "Label str [15, 0, 10, 0, 9, 0, 19] 7\n",
            "Length 7\n",
            "Shape[1] 19\n",
            "indices [[0, 0], [0, 1], [0, 2], [0, 3], [0, 4], [0, 5], [0, 6], [0, 7], [0, 8], [0, 9], [0, 10], [0, 11], [0, 12], [0, 13], [0, 14], [0, 15], [0, 16], [0, 17], [0, 18], [1, 0], [1, 1], [1, 2], [1, 3], [1, 4], [1, 5], [1, 6]]\n",
            "[5, 0, 20, 0, 11, 0, 1, 0, 6, 0, 18, 0, 9, 0, 16, 0, 12, 0, 17, 15, 0, 10, 0, 9, 0, 19]\n",
            "Batch: 2 / 2 Loss: 30.290697\n",
            "[ERR:18] \"ग ै र - च ु न ा व ी\" -> \" \"\n",
            "[ERR:6] \"स ब न े\" -> \" \"\n",
            "In has next\n",
            "4 2 4\n",
            "Validate NN\n",
            "In has next\n",
            "0 2 2\n",
            "Batch: 1 / 1\n",
            "Inside the tosparse\n",
            "['र े स ् त ् र ा ँ', 'उ ष ा']\n",
            "र े स ् त ् र ा ँ 17\n",
            "Label str [11, 0, 19, 0, 15, 0, 21, 0, 8, 0, 21, 0, 11, 0, 16, 0, 2] 17\n",
            "Length 17\n",
            "Shape[1] 0\n",
            "indices [[0, 0], [0, 1], [0, 2], [0, 3], [0, 4], [0, 5], [0, 6], [0, 7], [0, 8], [0, 9], [0, 10], [0, 11], [0, 12], [0, 13], [0, 14], [0, 15], [0, 16]]\n",
            "[11, 0, 19, 0, 15, 0, 21, 0, 8, 0, 21, 0, 11, 0, 16, 0, 2]\n",
            "उ ष ा 5\n",
            "Label str [4, 0, 14, 0, 16] 5\n",
            "Length 5\n",
            "Shape[1] 17\n",
            "indices [[0, 0], [0, 1], [0, 2], [0, 3], [0, 4], [0, 5], [0, 6], [0, 7], [0, 8], [0, 9], [0, 10], [0, 11], [0, 12], [0, 13], [0, 14], [0, 15], [0, 16], [1, 0], [1, 1], [1, 2], [1, 3], [1, 4]]\n",
            "[11, 0, 19, 0, 15, 0, 21, 0, 8, 0, 21, 0, 11, 0, 16, 0, 2, 4, 0, 14, 0, 16]\n",
            "['  ', ' ']\n",
            "Ground truth -> Recognized\n",
            "[ERR:15] \"र े स ् त ् र ा ँ\" -> \"  \"\n",
            "[ERR:4] \"उ ष ा\" -> \" \"\n",
            "In has next\n",
            "2 2 2\n",
            "Character error rate: 86.363636%. Word accuracy: 0.000000%.\n",
            "Character error rate improved, save model\n",
            "WARNING:tensorflow:From /tensorflow-1.15.2/python3.7/tensorflow_core/python/training/saver.py:963: remove_checkpoint (from tensorflow.python.training.checkpoint_management) is deprecated and will be removed in a future version.\n",
            "Instructions for updating:\n",
            "Use standard file APIs to delete files with this prefix.\n",
            "Epoch: 3\n",
            "Train NN\n",
            "In has next\n",
            "0 2 4\n",
            "Inside the tosparse\n",
            "['र ं ग र े ज व ा', 'श ा स ् त ् र ी']\n",
            "र ं ग र े ज व ा 15\n",
            "Label str [11, 0, 3, 0, 5, 0, 11, 0, 19, 0, 7, 0, 12, 0, 16] 15\n",
            "Length 15\n",
            "Shape[1] 0\n",
            "indices [[0, 0], [0, 1], [0, 2], [0, 3], [0, 4], [0, 5], [0, 6], [0, 7], [0, 8], [0, 9], [0, 10], [0, 11], [0, 12], [0, 13], [0, 14]]\n",
            "[11, 0, 3, 0, 5, 0, 11, 0, 19, 0, 7, 0, 12, 0, 16]\n",
            "श ा स ् त ् र ी 15\n",
            "Label str [13, 0, 16, 0, 15, 0, 21, 0, 8, 0, 21, 0, 11, 0, 17] 15\n",
            "Length 15\n",
            "Shape[1] 15\n",
            "indices [[0, 0], [0, 1], [0, 2], [0, 3], [0, 4], [0, 5], [0, 6], [0, 7], [0, 8], [0, 9], [0, 10], [0, 11], [0, 12], [0, 13], [0, 14], [1, 0], [1, 1], [1, 2], [1, 3], [1, 4], [1, 5], [1, 6], [1, 7], [1, 8], [1, 9], [1, 10], [1, 11], [1, 12], [1, 13], [1, 14]]\n",
            "[11, 0, 3, 0, 5, 0, 11, 0, 19, 0, 7, 0, 12, 0, 16, 13, 0, 16, 0, 15, 0, 21, 0, 8, 0, 21, 0, 11, 0, 17]\n",
            "Batch: 1 / 2 Loss: 30.942234\n",
            "[ERR:14] \"र ं ग र े ज व ा\" -> \" \"\n",
            "[ERR:14] \"श ा स ् त ् र ी\" -> \" \"\n",
            "In has next\n",
            "2 2 4\n",
            "Inside the tosparse\n",
            "['स ब न े', 'ग ै र - च ु न ा व ी']\n",
            "स ब न े 7\n",
            "Label str [15, 0, 10, 0, 9, 0, 19] 7\n",
            "Length 7\n",
            "Shape[1] 0\n",
            "indices [[0, 0], [0, 1], [0, 2], [0, 3], [0, 4], [0, 5], [0, 6]]\n",
            "[15, 0, 10, 0, 9, 0, 19]\n",
            "ग ै र - च ु न ा व ी 19\n",
            "Label str [5, 0, 20, 0, 11, 0, 1, 0, 6, 0, 18, 0, 9, 0, 16, 0, 12, 0, 17] 19\n",
            "Length 19\n",
            "Shape[1] 7\n",
            "indices [[0, 0], [0, 1], [0, 2], [0, 3], [0, 4], [0, 5], [0, 6], [1, 0], [1, 1], [1, 2], [1, 3], [1, 4], [1, 5], [1, 6], [1, 7], [1, 8], [1, 9], [1, 10], [1, 11], [1, 12], [1, 13], [1, 14], [1, 15], [1, 16], [1, 17], [1, 18]]\n",
            "[15, 0, 10, 0, 9, 0, 19, 5, 0, 20, 0, 11, 0, 1, 0, 6, 0, 18, 0, 9, 0, 16, 0, 12, 0, 17]\n",
            "Batch: 2 / 2 Loss: 29.751957\n",
            "[ERR:6] \"स ब न े\" -> \" \"\n",
            "[ERR:18] \"ग ै र - च ु न ा व ी\" -> \" \"\n",
            "In has next\n",
            "4 2 4\n",
            "Validate NN\n",
            "In has next\n",
            "0 2 2\n",
            "Batch: 1 / 1\n",
            "Inside the tosparse\n",
            "['र े स ् त ् र ा ँ', 'उ ष ा']\n",
            "र े स ् त ् र ा ँ 17\n",
            "Label str [11, 0, 19, 0, 15, 0, 21, 0, 8, 0, 21, 0, 11, 0, 16, 0, 2] 17\n",
            "Length 17\n",
            "Shape[1] 0\n",
            "indices [[0, 0], [0, 1], [0, 2], [0, 3], [0, 4], [0, 5], [0, 6], [0, 7], [0, 8], [0, 9], [0, 10], [0, 11], [0, 12], [0, 13], [0, 14], [0, 15], [0, 16]]\n",
            "[11, 0, 19, 0, 15, 0, 21, 0, 8, 0, 21, 0, 11, 0, 16, 0, 2]\n",
            "उ ष ा 5\n",
            "Label str [4, 0, 14, 0, 16] 5\n",
            "Length 5\n",
            "Shape[1] 17\n",
            "indices [[0, 0], [0, 1], [0, 2], [0, 3], [0, 4], [0, 5], [0, 6], [0, 7], [0, 8], [0, 9], [0, 10], [0, 11], [0, 12], [0, 13], [0, 14], [0, 15], [0, 16], [1, 0], [1, 1], [1, 2], [1, 3], [1, 4]]\n",
            "[11, 0, 19, 0, 15, 0, 21, 0, 8, 0, 21, 0, 11, 0, 16, 0, 2, 4, 0, 14, 0, 16]\n",
            "[' ', ' ']\n",
            "Ground truth -> Recognized\n",
            "[ERR:16] \"र े स ् त ् र ा ँ\" -> \" \"\n",
            "[ERR:4] \"उ ष ा\" -> \" \"\n",
            "In has next\n",
            "2 2 2\n",
            "Character error rate: 90.909091%. Word accuracy: 0.000000%.\n",
            "Character error rate not improved\n",
            "Epoch: 4\n",
            "Train NN\n",
            "In has next\n",
            "0 2 4\n",
            "Inside the tosparse\n",
            "['र ं ग र े ज व ा', 'स ब न े']\n",
            "र ं ग र े ज व ा 15\n",
            "Label str [11, 0, 3, 0, 5, 0, 11, 0, 19, 0, 7, 0, 12, 0, 16] 15\n",
            "Length 15\n",
            "Shape[1] 0\n",
            "indices [[0, 0], [0, 1], [0, 2], [0, 3], [0, 4], [0, 5], [0, 6], [0, 7], [0, 8], [0, 9], [0, 10], [0, 11], [0, 12], [0, 13], [0, 14]]\n",
            "[11, 0, 3, 0, 5, 0, 11, 0, 19, 0, 7, 0, 12, 0, 16]\n",
            "स ब न े 7\n",
            "Label str [15, 0, 10, 0, 9, 0, 19] 7\n",
            "Length 7\n",
            "Shape[1] 15\n",
            "indices [[0, 0], [0, 1], [0, 2], [0, 3], [0, 4], [0, 5], [0, 6], [0, 7], [0, 8], [0, 9], [0, 10], [0, 11], [0, 12], [0, 13], [0, 14], [1, 0], [1, 1], [1, 2], [1, 3], [1, 4], [1, 5], [1, 6]]\n",
            "[11, 0, 3, 0, 5, 0, 11, 0, 19, 0, 7, 0, 12, 0, 16, 15, 0, 10, 0, 9, 0, 19]\n",
            "Batch: 1 / 2 Loss: 25.012657\n",
            "[ERR:14] \"र ं ग र े ज व ा\" -> \" \"\n",
            "[ERR:6] \"स ब न े\" -> \" \"\n",
            "In has next\n",
            "2 2 4\n",
            "Inside the tosparse\n",
            "['श ा स ् त ् र ी', 'ग ै र - च ु न ा व ी']\n",
            "श ा स ् त ् र ी 15\n",
            "Label str [13, 0, 16, 0, 15, 0, 21, 0, 8, 0, 21, 0, 11, 0, 17] 15\n",
            "Length 15\n",
            "Shape[1] 0\n",
            "indices [[0, 0], [0, 1], [0, 2], [0, 3], [0, 4], [0, 5], [0, 6], [0, 7], [0, 8], [0, 9], [0, 10], [0, 11], [0, 12], [0, 13], [0, 14]]\n",
            "[13, 0, 16, 0, 15, 0, 21, 0, 8, 0, 21, 0, 11, 0, 17]\n",
            "ग ै र - च ु न ा व ी 19\n",
            "Label str [5, 0, 20, 0, 11, 0, 1, 0, 6, 0, 18, 0, 9, 0, 16, 0, 12, 0, 17] 19\n",
            "Length 19\n",
            "Shape[1] 15\n",
            "indices [[0, 0], [0, 1], [0, 2], [0, 3], [0, 4], [0, 5], [0, 6], [0, 7], [0, 8], [0, 9], [0, 10], [0, 11], [0, 12], [0, 13], [0, 14], [1, 0], [1, 1], [1, 2], [1, 3], [1, 4], [1, 5], [1, 6], [1, 7], [1, 8], [1, 9], [1, 10], [1, 11], [1, 12], [1, 13], [1, 14], [1, 15], [1, 16], [1, 17], [1, 18]]\n",
            "[13, 0, 16, 0, 15, 0, 21, 0, 8, 0, 21, 0, 11, 0, 17, 5, 0, 20, 0, 11, 0, 1, 0, 6, 0, 18, 0, 9, 0, 16, 0, 12, 0, 17]\n",
            "Batch: 2 / 2 Loss: 35.229805\n",
            "[ERR:14] \"श ा स ् त ् र ी\" -> \" \"\n",
            "[ERR:18] \"ग ै र - च ु न ा व ी\" -> \" \"\n",
            "In has next\n",
            "4 2 4\n",
            "Validate NN\n",
            "In has next\n",
            "0 2 2\n",
            "Batch: 1 / 1\n",
            "Inside the tosparse\n",
            "['र े स ् त ् र ा ँ', 'उ ष ा']\n",
            "र े स ् त ् र ा ँ 17\n",
            "Label str [11, 0, 19, 0, 15, 0, 21, 0, 8, 0, 21, 0, 11, 0, 16, 0, 2] 17\n",
            "Length 17\n",
            "Shape[1] 0\n",
            "indices [[0, 0], [0, 1], [0, 2], [0, 3], [0, 4], [0, 5], [0, 6], [0, 7], [0, 8], [0, 9], [0, 10], [0, 11], [0, 12], [0, 13], [0, 14], [0, 15], [0, 16]]\n",
            "[11, 0, 19, 0, 15, 0, 21, 0, 8, 0, 21, 0, 11, 0, 16, 0, 2]\n",
            "उ ष ा 5\n",
            "Label str [4, 0, 14, 0, 16] 5\n",
            "Length 5\n",
            "Shape[1] 17\n",
            "indices [[0, 0], [0, 1], [0, 2], [0, 3], [0, 4], [0, 5], [0, 6], [0, 7], [0, 8], [0, 9], [0, 10], [0, 11], [0, 12], [0, 13], [0, 14], [0, 15], [0, 16], [1, 0], [1, 1], [1, 2], [1, 3], [1, 4]]\n",
            "[11, 0, 19, 0, 15, 0, 21, 0, 8, 0, 21, 0, 11, 0, 16, 0, 2, 4, 0, 14, 0, 16]\n",
            "[' ', ' ']\n",
            "Ground truth -> Recognized\n",
            "[ERR:16] \"र े स ् त ् र ा ँ\" -> \" \"\n",
            "[ERR:4] \"उ ष ा\" -> \" \"\n",
            "In has next\n",
            "2 2 2\n",
            "Character error rate: 90.909091%. Word accuracy: 0.000000%.\n",
            "Character error rate not improved\n",
            "Epoch: 5\n",
            "Train NN\n",
            "In has next\n",
            "0 2 4\n",
            "Inside the tosparse\n",
            "['र ं ग र े ज व ा', 'ग ै र - च ु न ा व ी']\n",
            "र ं ग र े ज व ा 15\n",
            "Label str [11, 0, 3, 0, 5, 0, 11, 0, 19, 0, 7, 0, 12, 0, 16] 15\n",
            "Length 15\n",
            "Shape[1] 0\n",
            "indices [[0, 0], [0, 1], [0, 2], [0, 3], [0, 4], [0, 5], [0, 6], [0, 7], [0, 8], [0, 9], [0, 10], [0, 11], [0, 12], [0, 13], [0, 14]]\n",
            "[11, 0, 3, 0, 5, 0, 11, 0, 19, 0, 7, 0, 12, 0, 16]\n",
            "ग ै र - च ु न ा व ी 19\n",
            "Label str [5, 0, 20, 0, 11, 0, 1, 0, 6, 0, 18, 0, 9, 0, 16, 0, 12, 0, 17] 19\n",
            "Length 19\n",
            "Shape[1] 15\n",
            "indices [[0, 0], [0, 1], [0, 2], [0, 3], [0, 4], [0, 5], [0, 6], [0, 7], [0, 8], [0, 9], [0, 10], [0, 11], [0, 12], [0, 13], [0, 14], [1, 0], [1, 1], [1, 2], [1, 3], [1, 4], [1, 5], [1, 6], [1, 7], [1, 8], [1, 9], [1, 10], [1, 11], [1, 12], [1, 13], [1, 14], [1, 15], [1, 16], [1, 17], [1, 18]]\n",
            "[11, 0, 3, 0, 5, 0, 11, 0, 19, 0, 7, 0, 12, 0, 16, 5, 0, 20, 0, 11, 0, 1, 0, 6, 0, 18, 0, 9, 0, 16, 0, 12, 0, 17]\n",
            "Batch: 1 / 2 Loss: 34.63006\n",
            "[ERR:14] \"र ं ग र े ज व ा\" -> \" \"\n",
            "[ERR:18] \"ग ै र - च ु न ा व ी\" -> \" \"\n",
            "In has next\n",
            "2 2 4\n",
            "Inside the tosparse\n",
            "['स ब न े', 'श ा स ् त ् र ी']\n",
            "स ब न े 7\n",
            "Label str [15, 0, 10, 0, 9, 0, 19] 7\n",
            "Length 7\n",
            "Shape[1] 0\n",
            "indices [[0, 0], [0, 1], [0, 2], [0, 3], [0, 4], [0, 5], [0, 6]]\n",
            "[15, 0, 10, 0, 9, 0, 19]\n",
            "श ा स ् त ् र ी 15\n",
            "Label str [13, 0, 16, 0, 15, 0, 21, 0, 8, 0, 21, 0, 11, 0, 17] 15\n",
            "Length 15\n",
            "Shape[1] 7\n",
            "indices [[0, 0], [0, 1], [0, 2], [0, 3], [0, 4], [0, 5], [0, 6], [1, 0], [1, 1], [1, 2], [1, 3], [1, 4], [1, 5], [1, 6], [1, 7], [1, 8], [1, 9], [1, 10], [1, 11], [1, 12], [1, 13], [1, 14]]\n",
            "[15, 0, 10, 0, 9, 0, 19, 13, 0, 16, 0, 15, 0, 21, 0, 8, 0, 21, 0, 11, 0, 17]\n",
            "Batch: 2 / 2 Loss: 24.739063\n",
            "[ERR:6] \"स ब न े\" -> \" \"\n",
            "[ERR:14] \"श ा स ् त ् र ी\" -> \" \"\n",
            "In has next\n",
            "4 2 4\n",
            "Validate NN\n",
            "In has next\n",
            "0 2 2\n",
            "Batch: 1 / 1\n",
            "Inside the tosparse\n",
            "['र े स ् त ् र ा ँ', 'उ ष ा']\n",
            "र े स ् त ् र ा ँ 17\n",
            "Label str [11, 0, 19, 0, 15, 0, 21, 0, 8, 0, 21, 0, 11, 0, 16, 0, 2] 17\n",
            "Length 17\n",
            "Shape[1] 0\n",
            "indices [[0, 0], [0, 1], [0, 2], [0, 3], [0, 4], [0, 5], [0, 6], [0, 7], [0, 8], [0, 9], [0, 10], [0, 11], [0, 12], [0, 13], [0, 14], [0, 15], [0, 16]]\n",
            "[11, 0, 19, 0, 15, 0, 21, 0, 8, 0, 21, 0, 11, 0, 16, 0, 2]\n",
            "उ ष ा 5\n",
            "Label str [4, 0, 14, 0, 16] 5\n",
            "Length 5\n",
            "Shape[1] 17\n",
            "indices [[0, 0], [0, 1], [0, 2], [0, 3], [0, 4], [0, 5], [0, 6], [0, 7], [0, 8], [0, 9], [0, 10], [0, 11], [0, 12], [0, 13], [0, 14], [0, 15], [0, 16], [1, 0], [1, 1], [1, 2], [1, 3], [1, 4]]\n",
            "[11, 0, 19, 0, 15, 0, 21, 0, 8, 0, 21, 0, 11, 0, 16, 0, 2, 4, 0, 14, 0, 16]\n",
            "[' ', ' ']\n",
            "Ground truth -> Recognized\n",
            "[ERR:16] \"र े स ् त ् र ा ँ\" -> \" \"\n",
            "[ERR:4] \"उ ष ा\" -> \" \"\n",
            "In has next\n",
            "2 2 2\n",
            "Character error rate: 90.909091%. Word accuracy: 0.000000%.\n",
            "Character error rate not improved\n",
            "Epoch: 6\n",
            "Train NN\n",
            "In has next\n",
            "0 2 4\n",
            "Inside the tosparse\n",
            "['र ं ग र े ज व ा', 'ग ै र - च ु न ा व ी']\n",
            "र ं ग र े ज व ा 15\n",
            "Label str [11, 0, 3, 0, 5, 0, 11, 0, 19, 0, 7, 0, 12, 0, 16] 15\n",
            "Length 15\n",
            "Shape[1] 0\n",
            "indices [[0, 0], [0, 1], [0, 2], [0, 3], [0, 4], [0, 5], [0, 6], [0, 7], [0, 8], [0, 9], [0, 10], [0, 11], [0, 12], [0, 13], [0, 14]]\n",
            "[11, 0, 3, 0, 5, 0, 11, 0, 19, 0, 7, 0, 12, 0, 16]\n",
            "ग ै र - च ु न ा व ी 19\n",
            "Label str [5, 0, 20, 0, 11, 0, 1, 0, 6, 0, 18, 0, 9, 0, 16, 0, 12, 0, 17] 19\n",
            "Length 19\n",
            "Shape[1] 15\n",
            "indices [[0, 0], [0, 1], [0, 2], [0, 3], [0, 4], [0, 5], [0, 6], [0, 7], [0, 8], [0, 9], [0, 10], [0, 11], [0, 12], [0, 13], [0, 14], [1, 0], [1, 1], [1, 2], [1, 3], [1, 4], [1, 5], [1, 6], [1, 7], [1, 8], [1, 9], [1, 10], [1, 11], [1, 12], [1, 13], [1, 14], [1, 15], [1, 16], [1, 17], [1, 18]]\n",
            "[11, 0, 3, 0, 5, 0, 11, 0, 19, 0, 7, 0, 12, 0, 16, 5, 0, 20, 0, 11, 0, 1, 0, 6, 0, 18, 0, 9, 0, 16, 0, 12, 0, 17]\n",
            "Batch: 1 / 2 Loss: 33.910816\n",
            "[ERR:14] \"र ं ग र े ज व ा\" -> \" \"\n",
            "[ERR:18] \"ग ै र - च ु न ा व ी\" -> \" \"\n",
            "In has next\n",
            "2 2 4\n",
            "Inside the tosparse\n",
            "['स ब न े', 'श ा स ् त ् र ी']\n",
            "स ब न े 7\n",
            "Label str [15, 0, 10, 0, 9, 0, 19] 7\n",
            "Length 7\n",
            "Shape[1] 0\n",
            "indices [[0, 0], [0, 1], [0, 2], [0, 3], [0, 4], [0, 5], [0, 6]]\n",
            "[15, 0, 10, 0, 9, 0, 19]\n",
            "श ा स ् त ् र ी 15\n",
            "Label str [13, 0, 16, 0, 15, 0, 21, 0, 8, 0, 21, 0, 11, 0, 17] 15\n",
            "Length 15\n",
            "Shape[1] 7\n",
            "indices [[0, 0], [0, 1], [0, 2], [0, 3], [0, 4], [0, 5], [0, 6], [1, 0], [1, 1], [1, 2], [1, 3], [1, 4], [1, 5], [1, 6], [1, 7], [1, 8], [1, 9], [1, 10], [1, 11], [1, 12], [1, 13], [1, 14]]\n",
            "[15, 0, 10, 0, 9, 0, 19, 13, 0, 16, 0, 15, 0, 21, 0, 8, 0, 21, 0, 11, 0, 17]\n",
            "Batch: 2 / 2 Loss: 24.836811\n",
            "[ERR:6] \"स ब न े\" -> \" \"\n",
            "[ERR:14] \"श ा स ् त ् र ी\" -> \" \"\n",
            "In has next\n",
            "4 2 4\n",
            "Validate NN\n",
            "In has next\n",
            "0 2 2\n",
            "Batch: 1 / 1\n",
            "Inside the tosparse\n",
            "['र े स ् त ् र ा ँ', 'उ ष ा']\n",
            "र े स ् त ् र ा ँ 17\n",
            "Label str [11, 0, 19, 0, 15, 0, 21, 0, 8, 0, 21, 0, 11, 0, 16, 0, 2] 17\n",
            "Length 17\n",
            "Shape[1] 0\n",
            "indices [[0, 0], [0, 1], [0, 2], [0, 3], [0, 4], [0, 5], [0, 6], [0, 7], [0, 8], [0, 9], [0, 10], [0, 11], [0, 12], [0, 13], [0, 14], [0, 15], [0, 16]]\n",
            "[11, 0, 19, 0, 15, 0, 21, 0, 8, 0, 21, 0, 11, 0, 16, 0, 2]\n",
            "उ ष ा 5\n",
            "Label str [4, 0, 14, 0, 16] 5\n",
            "Length 5\n",
            "Shape[1] 17\n",
            "indices [[0, 0], [0, 1], [0, 2], [0, 3], [0, 4], [0, 5], [0, 6], [0, 7], [0, 8], [0, 9], [0, 10], [0, 11], [0, 12], [0, 13], [0, 14], [0, 15], [0, 16], [1, 0], [1, 1], [1, 2], [1, 3], [1, 4]]\n",
            "[11, 0, 19, 0, 15, 0, 21, 0, 8, 0, 21, 0, 11, 0, 16, 0, 2, 4, 0, 14, 0, 16]\n",
            "[' ', ' ']\n",
            "Ground truth -> Recognized\n",
            "[ERR:16] \"र े स ् त ् र ा ँ\" -> \" \"\n",
            "[ERR:4] \"उ ष ा\" -> \" \"\n",
            "In has next\n",
            "2 2 2\n",
            "Character error rate: 90.909091%. Word accuracy: 0.000000%.\n",
            "Character error rate not improved\n",
            "Epoch: 7\n",
            "Train NN\n",
            "In has next\n",
            "0 2 4\n",
            "Inside the tosparse\n",
            "['र ं ग र े ज व ा', 'स ब न े']\n",
            "र ं ग र े ज व ा 15\n",
            "Label str [11, 0, 3, 0, 5, 0, 11, 0, 19, 0, 7, 0, 12, 0, 16] 15\n",
            "Length 15\n",
            "Shape[1] 0\n",
            "indices [[0, 0], [0, 1], [0, 2], [0, 3], [0, 4], [0, 5], [0, 6], [0, 7], [0, 8], [0, 9], [0, 10], [0, 11], [0, 12], [0, 13], [0, 14]]\n",
            "[11, 0, 3, 0, 5, 0, 11, 0, 19, 0, 7, 0, 12, 0, 16]\n",
            "स ब न े 7\n",
            "Label str [15, 0, 10, 0, 9, 0, 19] 7\n",
            "Length 7\n",
            "Shape[1] 15\n",
            "indices [[0, 0], [0, 1], [0, 2], [0, 3], [0, 4], [0, 5], [0, 6], [0, 7], [0, 8], [0, 9], [0, 10], [0, 11], [0, 12], [0, 13], [0, 14], [1, 0], [1, 1], [1, 2], [1, 3], [1, 4], [1, 5], [1, 6]]\n",
            "[11, 0, 3, 0, 5, 0, 11, 0, 19, 0, 7, 0, 12, 0, 16, 15, 0, 10, 0, 9, 0, 19]\n",
            "Batch: 1 / 2 Loss: 24.389208\n",
            "[ERR:14] \"र ं ग र े ज व ा\" -> \" \"\n",
            "[ERR:6] \"स ब न े\" -> \" \"\n",
            "In has next\n",
            "2 2 4\n",
            "Inside the tosparse\n",
            "['श ा स ् त ् र ी', 'ग ै र - च ु न ा व ी']\n",
            "श ा स ् त ् र ी 15\n",
            "Label str [13, 0, 16, 0, 15, 0, 21, 0, 8, 0, 21, 0, 11, 0, 17] 15\n",
            "Length 15\n",
            "Shape[1] 0\n",
            "indices [[0, 0], [0, 1], [0, 2], [0, 3], [0, 4], [0, 5], [0, 6], [0, 7], [0, 8], [0, 9], [0, 10], [0, 11], [0, 12], [0, 13], [0, 14]]\n",
            "[13, 0, 16, 0, 15, 0, 21, 0, 8, 0, 21, 0, 11, 0, 17]\n",
            "ग ै र - च ु न ा व ी 19\n",
            "Label str [5, 0, 20, 0, 11, 0, 1, 0, 6, 0, 18, 0, 9, 0, 16, 0, 12, 0, 17] 19\n",
            "Length 19\n",
            "Shape[1] 15\n",
            "indices [[0, 0], [0, 1], [0, 2], [0, 3], [0, 4], [0, 5], [0, 6], [0, 7], [0, 8], [0, 9], [0, 10], [0, 11], [0, 12], [0, 13], [0, 14], [1, 0], [1, 1], [1, 2], [1, 3], [1, 4], [1, 5], [1, 6], [1, 7], [1, 8], [1, 9], [1, 10], [1, 11], [1, 12], [1, 13], [1, 14], [1, 15], [1, 16], [1, 17], [1, 18]]\n",
            "[13, 0, 16, 0, 15, 0, 21, 0, 8, 0, 21, 0, 11, 0, 17, 5, 0, 20, 0, 11, 0, 1, 0, 6, 0, 18, 0, 9, 0, 16, 0, 12, 0, 17]\n",
            "Batch: 2 / 2 Loss: 33.624283\n",
            "[ERR:14] \"श ा स ् त ् र ी\" -> \" \"\n",
            "[ERR:18] \"ग ै र - च ु न ा व ी\" -> \" \"\n",
            "In has next\n",
            "4 2 4\n",
            "Validate NN\n",
            "In has next\n",
            "0 2 2\n",
            "Batch: 1 / 1\n",
            "Inside the tosparse\n",
            "['र े स ् त ् र ा ँ', 'उ ष ा']\n",
            "र े स ् त ् र ा ँ 17\n",
            "Label str [11, 0, 19, 0, 15, 0, 21, 0, 8, 0, 21, 0, 11, 0, 16, 0, 2] 17\n",
            "Length 17\n",
            "Shape[1] 0\n",
            "indices [[0, 0], [0, 1], [0, 2], [0, 3], [0, 4], [0, 5], [0, 6], [0, 7], [0, 8], [0, 9], [0, 10], [0, 11], [0, 12], [0, 13], [0, 14], [0, 15], [0, 16]]\n",
            "[11, 0, 19, 0, 15, 0, 21, 0, 8, 0, 21, 0, 11, 0, 16, 0, 2]\n",
            "उ ष ा 5\n",
            "Label str [4, 0, 14, 0, 16] 5\n",
            "Length 5\n",
            "Shape[1] 17\n",
            "indices [[0, 0], [0, 1], [0, 2], [0, 3], [0, 4], [0, 5], [0, 6], [0, 7], [0, 8], [0, 9], [0, 10], [0, 11], [0, 12], [0, 13], [0, 14], [0, 15], [0, 16], [1, 0], [1, 1], [1, 2], [1, 3], [1, 4]]\n",
            "[11, 0, 19, 0, 15, 0, 21, 0, 8, 0, 21, 0, 11, 0, 16, 0, 2, 4, 0, 14, 0, 16]\n",
            "[' ', ' ']\n",
            "Ground truth -> Recognized\n",
            "[ERR:16] \"र े स ् त ् र ा ँ\" -> \" \"\n",
            "[ERR:4] \"उ ष ा\" -> \" \"\n",
            "In has next\n",
            "2 2 2\n",
            "Character error rate: 90.909091%. Word accuracy: 0.000000%.\n",
            "Character error rate not improved\n",
            "No more improvement since 5 epochs. Training stopped.\n"
          ]
        }
      ],
      "source": [
        "train(model, loader)"
      ]
    },
    {
      "cell_type": "code",
      "execution_count": null,
      "metadata": {
        "colab": {
          "base_uri": "https://localhost:8080/",
          "height": 35
        },
        "id": "DCJY9uSjdYlR",
        "outputId": "d8036619-f21b-4e6b-efec-de9a0ea59a45"
      },
      "outputs": [
        {
          "data": {
            "application/vnd.google.colaboratory.intrinsic+json": {
              "type": "string"
            },
            "text/plain": [
              "''"
            ]
          },
          "execution_count": 22,
          "metadata": {},
          "output_type": "execute_result"
        }
      ],
      "source": []
    },
    {
      "cell_type": "markdown",
      "metadata": {
        "id": "tEG6vK0APZ9b"
      },
      "source": [
        "Practice of all.."
      ]
    },
    {
      "cell_type": "code",
      "execution_count": null,
      "metadata": {
        "colab": {
          "base_uri": "https://localhost:8080/"
        },
        "id": "8HH114iAPhCf",
        "outputId": "3da85c60-f63d-41a0-d130-ef8e70428134"
      },
      "outputs": [
        {
          "name": "stdout",
          "output_type": "stream",
          "text": [
            "[(0, 1), (1, 2), (2, 3), (3, 4), (4, 5), (5, 6), (6, 5), (7, 3), (8, 6), (9, 2)]\n"
          ]
        }
      ],
      "source": [
        "loader."
      ]
    },
    {
      "cell_type": "code",
      "execution_count": null,
      "metadata": {
        "id": "deCB8jqI9ZmG"
      },
      "outputs": [],
      "source": [
        "sess=tf.Session() # TF session\n",
        "saver = tf.train.Saver(max_to_keep=1)\n",
        "modelDir = 'model/'\n",
        "latestSnapshot = tf.train.latest_checkpoint(modelDir)"
      ]
    },
    {
      "cell_type": "code",
      "execution_count": null,
      "metadata": {
        "colab": {
          "base_uri": "https://localhost:8080/"
        },
        "id": "GEO4u_ngTOaw",
        "outputId": "5540edeb-6e28-48f4-8c47-041dd94cfd2e"
      },
      "outputs": [
        {
          "name": "stdout",
          "output_type": "stream",
          "text": [
            "model/snapshot-1\n",
            "False\n"
          ]
        }
      ],
      "source": [
        "print(latestSnapshot)\n",
        "print(not latestSnapshot)"
      ]
    },
    {
      "cell_type": "code",
      "execution_count": null,
      "metadata": {
        "colab": {
          "base_uri": "https://localhost:8080/"
        },
        "id": "DXarzGsixDIL",
        "outputId": "e2272259-6e8e-4947-bc4e-fe460ed3fe76"
      },
      "outputs": [
        {
          "data": {
            "text/plain": [
              "4"
            ]
          },
          "execution_count": 3,
          "metadata": {},
          "output_type": "execute_result"
        }
      ],
      "source": [
        "texts.index(5)"
      ]
    },
    {
      "cell_type": "code",
      "execution_count": null,
      "metadata": {
        "id": "0F7dEA-0TgVH"
      },
      "outputs": [],
      "source": [
        "x= [[] for i in range(9)]"
      ]
    },
    {
      "cell_type": "code",
      "execution_count": null,
      "metadata": {
        "id": "aGCETYh6WlkM"
      },
      "outputs": [],
      "source": [
        "x[1] = [1,3,4]"
      ]
    },
    {
      "cell_type": "code",
      "execution_count": null,
      "metadata": {
        "colab": {
          "base_uri": "https://localhost:8080/"
        },
        "id": "kt_OFaluKlxO",
        "outputId": "30afe38b-131c-49ed-96e0-517fedf59cc9"
      },
      "outputs": [
        {
          "data": {
            "text/plain": [
              "[[], [1, 3, 4], [], [], [], [], [], [], []]"
            ]
          },
          "execution_count": 8,
          "metadata": {},
          "output_type": "execute_result"
        }
      ],
      "source": [
        "x"
      ]
    },
    {
      "cell_type": "code",
      "execution_count": null,
      "metadata": {
        "id": "x40cUU2oK74R"
      },
      "outputs": [],
      "source": [
        "def preprocess(img, imgSize, dataAugmentation=False):\n",
        "  \"put img into target img of size imgSize, transpose for TF and normalize gray-values\"\n",
        "\n",
        "  # there are damaged files in IAM dataset - just use black image instead\n",
        "  if img is None:\n",
        "    img = np.zeros([imgSize[1], imgSize[0]])\n",
        "\n",
        "  # create target image and copy sample image into it\n",
        "  (wt, ht) = imgSize\n",
        "  (h, w) = img.shape\n",
        "  print('shape of image',img.shape)\n",
        "  print('target shape',wt,ht)\n",
        "  fx = w / wt\n",
        "  fy = h / ht\n",
        "  f = max(fx, fy)\n",
        "  print('fx fy f',fx,fy,f)\n",
        "  newSize = (max(min(wt, int(w / f)), 1), max(min(ht, int(h / f)), 1)) # scale according to f (result at least 1 and at most wt or ht)\n",
        "  print('newsize',newSize)\n",
        "  img = cv2.resize(img, newSize)\n",
        "  target = np.ones([ht, wt]) * 255\n",
        "  target[0:newSize[1], 0:newSize[0]] = img\n",
        "  print('target shape',target.shape)\n",
        "\n",
        "  # transpose for TF\n",
        "  img = cv2.transpose(target)\n",
        "  print('transpose shape',img.shape)\n",
        "  # normalize\n",
        "  (m, s) = cv2.meanStdDev(img)\n",
        "  m = m[0][0]\n",
        "  s = s[0][0]\n",
        "  img = img - m\n",
        "  img = img / s if s>0 else img\n",
        "  return img"
      ]
    },
    {
      "cell_type": "code",
      "execution_count": null,
      "metadata": {
        "colab": {
          "base_uri": "https://localhost:8080/"
        },
        "id": "kCbnMlHn3vM0",
        "outputId": "04b2e8e8-18e3-47c0-a6d7-c229e371919c"
      },
      "outputs": [
        {
          "name": "stdout",
          "output_type": "stream",
          "text": [
            "shape of image (293, 713)\n",
            "target shape 128 32\n",
            "fx fy f 5.5703125 9.15625 9.15625\n",
            "newsize (77, 32)\n",
            "target shape (32, 128)\n",
            "transpose shape (128, 32)\n"
          ]
        },
        {
          "data": {
            "text/plain": [
              "array([[-0.57068973, -0.15483659, -0.18949102, ..., -0.25879988,\n",
              "        -0.39741759, -0.29345431],\n",
              "       [-0.36276316, -0.29345431, -0.12018217, ..., -0.25879988,\n",
              "        -0.25879988, -0.32810873],\n",
              "       [-0.32810873, -0.22414545, -0.22414545, ..., -0.29345431,\n",
              "        -0.25879988, -0.36276316],\n",
              "       ...,\n",
              "       [ 0.91945067,  0.91945067,  0.91945067, ...,  0.91945067,\n",
              "         0.91945067,  0.91945067],\n",
              "       [ 0.91945067,  0.91945067,  0.91945067, ...,  0.91945067,\n",
              "         0.91945067,  0.91945067],\n",
              "       [ 0.91945067,  0.91945067,  0.91945067, ...,  0.91945067,\n",
              "         0.91945067,  0.91945067]])"
            ]
          },
          "execution_count": 15,
          "metadata": {},
          "output_type": "execute_result"
        }
      ],
      "source": [
        "preprocess(cv2.imread('/content/drive/MyDrive/Major_colab/HindiSeg/train/1/1/1.jpg', cv2.IMREAD_GRAYSCALE),(128,32))"
      ]
    },
    {
      "cell_type": "code",
      "execution_count": null,
      "metadata": {
        "colab": {
          "base_uri": "https://localhost:8080/",
          "height": 35
        },
        "id": "CJK1z4M_5FEe",
        "outputId": "5342a40c-ae6e-4a53-e927-4d1bf7f86afb"
      },
      "outputs": [
        {
          "data": {
            "application/vnd.google.colaboratory.intrinsic+json": {
              "type": "string"
            },
            "text/plain": [
              "'aeiou'"
            ]
          },
          "execution_count": 8,
          "metadata": {},
          "output_type": "execute_result"
        }
      ],
      "source": [
        "''.join(['a','e','i','o','u'])"
      ]
    },
    {
      "cell_type": "code",
      "execution_count": null,
      "metadata": {
        "colab": {
          "base_uri": "https://localhost:8080/",
          "height": 53
        },
        "id": "pJNPYJGtxIJo",
        "outputId": "04c45c94-0227-4bfc-a1fb-be2a2c97abf2"
      },
      "outputs": [
        {
          "data": {
            "application/vnd.google.colaboratory.intrinsic+json": {
              "type": "string"
            },
            "text/plain": [
              "' -ँंःअआइईउऊऋऌऍऎएऐऑऒओऔकखगघङचछजझञटठडढणतथदधनऩपफबभमयरऱलळऴवशषसह़ऽािीुूृॄॅेैॉॊोौ्ॐ॒॑॓॔क़ख़ग़ज़ड़ढ़फ़य़ॠॢ।०१२३४५६७८९॰ॱॲॻॼॽॾ'"
            ]
          },
          "execution_count": 18,
          "metadata": {},
          "output_type": "execute_result"
        }
      ],
      "source": [
        "str().join(loader.charList)"
      ]
    },
    {
      "cell_type": "code",
      "execution_count": null,
      "metadata": {
        "colab": {
          "base_uri": "https://localhost:8080/"
        },
        "id": "KOkNC1gs2rDz",
        "outputId": "cbc2df73-d0e5-40c4-d85e-943fae92e990"
      },
      "outputs": [
        {
          "data": {
            "text/plain": [
              "[' ',\n",
              " '-',\n",
              " 'ँ',\n",
              " 'ं',\n",
              " 'ः',\n",
              " 'अ',\n",
              " 'आ',\n",
              " 'इ',\n",
              " 'ई',\n",
              " 'उ',\n",
              " 'ऊ',\n",
              " 'ऋ',\n",
              " 'ऌ',\n",
              " 'ऍ',\n",
              " 'ऎ',\n",
              " 'ए',\n",
              " 'ऐ',\n",
              " 'ऑ',\n",
              " 'ऒ',\n",
              " 'ओ',\n",
              " 'औ',\n",
              " 'क',\n",
              " 'ख',\n",
              " 'ग',\n",
              " 'घ',\n",
              " 'ङ',\n",
              " 'च',\n",
              " 'छ',\n",
              " 'ज',\n",
              " 'झ',\n",
              " 'ञ',\n",
              " 'ट',\n",
              " 'ठ',\n",
              " 'ड',\n",
              " 'ढ',\n",
              " 'ण',\n",
              " 'त',\n",
              " 'थ',\n",
              " 'द',\n",
              " 'ध',\n",
              " 'न',\n",
              " 'ऩ',\n",
              " 'प',\n",
              " 'फ',\n",
              " 'ब',\n",
              " 'भ',\n",
              " 'म',\n",
              " 'य',\n",
              " 'र',\n",
              " 'ऱ',\n",
              " 'ल',\n",
              " 'ळ',\n",
              " 'ऴ',\n",
              " 'व',\n",
              " 'श',\n",
              " 'ष',\n",
              " 'स',\n",
              " 'ह',\n",
              " '़',\n",
              " 'ऽ',\n",
              " 'ा',\n",
              " 'ि',\n",
              " 'ी',\n",
              " 'ु',\n",
              " 'ू',\n",
              " 'ृ',\n",
              " 'ॄ',\n",
              " 'ॅ',\n",
              " 'े',\n",
              " 'ै',\n",
              " 'ॉ',\n",
              " 'ॊ',\n",
              " 'ो',\n",
              " 'ौ',\n",
              " '्',\n",
              " 'ॐ',\n",
              " '॑',\n",
              " '॒',\n",
              " '॓',\n",
              " '॔',\n",
              " 'क़',\n",
              " 'ख़',\n",
              " 'ग़',\n",
              " 'ज़',\n",
              " 'ड़',\n",
              " 'ढ़',\n",
              " 'फ़',\n",
              " 'य़',\n",
              " 'ॠ',\n",
              " 'ॢ',\n",
              " '।',\n",
              " '०',\n",
              " '१',\n",
              " '२',\n",
              " '३',\n",
              " '४',\n",
              " '५',\n",
              " '६',\n",
              " '७',\n",
              " '८',\n",
              " '९',\n",
              " '॰',\n",
              " 'ॱ',\n",
              " 'ॲ',\n",
              " 'ॻ',\n",
              " 'ॼ',\n",
              " 'ॽ',\n",
              " 'ॾ']"
            ]
          },
          "execution_count": 19,
          "metadata": {},
          "output_type": "execute_result"
        }
      ],
      "source": [
        "loader.charList"
      ]
    },
    {
      "cell_type": "code",
      "execution_count": null,
      "metadata": {
        "colab": {
          "base_uri": "https://localhost:8080/",
          "height": 183
        },
        "id": "a4CZNdog2uc7",
        "outputId": "54c052ce-7567-480c-b07b-5f27056a732d"
      },
      "outputs": [
        {
          "ename": "AttributeError",
          "evalue": "ignored",
          "output_type": "error",
          "traceback": [
            "\u001b[0;31m---------------------------------------------------------------------------\u001b[0m",
            "\u001b[0;31mAttributeError\u001b[0m                            Traceback (most recent call last)",
            "\u001b[0;32m<ipython-input-40-31812e4a19d7>\u001b[0m in \u001b[0;36m<module>\u001b[0;34m()\u001b[0m\n\u001b[1;32m      1\u001b[0m \u001b[0;32mimport\u001b[0m \u001b[0mtensorflow\u001b[0m \u001b[0;32mas\u001b[0m \u001b[0mtf\u001b[0m\u001b[0;34m\u001b[0m\u001b[0;34m\u001b[0m\u001b[0m\n\u001b[0;32m----> 2\u001b[0;31m \u001b[0mmodel\u001b[0m\u001b[0;34m.\u001b[0m\u001b[0mlayers\u001b[0m\u001b[0;34m\u001b[0m\u001b[0;34m\u001b[0m\u001b[0m\n\u001b[0m",
            "\u001b[0;31mAttributeError\u001b[0m: 'Model' object has no attribute 'layers'"
          ]
        }
      ],
      "source": [
        "import tensorflow as tf\n",
        "model.layers"
      ]
    },
    {
      "cell_type": "code",
      "execution_count": null,
      "metadata": {
        "colab": {
          "base_uri": "https://localhost:8080/",
          "height": 200
        },
        "id": "1gSFop1zKrNu",
        "outputId": "d853e277-ac3c-45d6-bd73-209ee86c9d43"
      },
      "outputs": [
        {
          "ename": "NameError",
          "evalue": "ignored",
          "output_type": "error",
          "traceback": [
            "\u001b[0;31m---------------------------------------------------------------------------\u001b[0m",
            "\u001b[0;31mNameError\u001b[0m                                 Traceback (most recent call last)",
            "\u001b[0;32m<ipython-input-10-443e09a1999e>\u001b[0m in \u001b[0;36m<module>\u001b[0;34m()\u001b[0m\n\u001b[1;32m      1\u001b[0m \u001b[0mlist\u001b[0m \u001b[0;34m=\u001b[0m \u001b[0;34m[\u001b[0m\u001b[0;36m1\u001b[0m\u001b[0;34m,\u001b[0m\u001b[0;36m2\u001b[0m\u001b[0;34m,\u001b[0m\u001b[0;36m3\u001b[0m\u001b[0;34m,\u001b[0m\u001b[0;36m4\u001b[0m\u001b[0;34m]\u001b[0m\u001b[0;34m\u001b[0m\u001b[0;34m\u001b[0m\u001b[0m\n\u001b[1;32m      2\u001b[0m \u001b[0msum\u001b[0m\u001b[0;34m(\u001b[0m\u001b[0mlist\u001b[0m\u001b[0;34m)\u001b[0m\u001b[0;34m/\u001b[0m\u001b[0mlen\u001b[0m\u001b[0;34m(\u001b[0m\u001b[0mlist\u001b[0m\u001b[0;34m)\u001b[0m\u001b[0;34m\u001b[0m\u001b[0;34m\u001b[0m\u001b[0m\n\u001b[0;32m----> 3\u001b[0;31m \u001b[0mpwd\u001b[0m\u001b[0;34m\u001b[0m\u001b[0;34m\u001b[0m\u001b[0m\n\u001b[0m",
            "\u001b[0;31mNameError\u001b[0m: name 'pwd' is not defined"
          ]
        }
      ],
      "source": [
        "lst = [1,2,3,4]\n",
        "sum(lst)/len(lst)\n",
        "pwd"
      ]
    },
    {
      "cell_type": "code",
      "execution_count": null,
      "metadata": {
        "id": "YSPfonoMCVQO"
      },
      "outputs": [],
      "source": [
        "l =10\n",
        "file1 = open(\"model/losstrain.txt\", \"a\")  # append mode\n",
        "file1.write(str(l)+ \"\\n\")\n",
        "file1.close()\n"
      ]
    },
    {
      "cell_type": "code",
      "execution_count": null,
      "metadata": {
        "id": "dDZ35-cCN-gA"
      },
      "outputs": [],
      "source": [
        "file1 = open(\"model/abc.txt\", \"a\")\n",
        "file1.write(str(12)+\"\\n\")\n",
        "file1.close()  \n",
        "file1 = open(\"model/abc.txt\", \"a\")\n",
        "file1.write(str(19)+\"\\n\")\n",
        "file1.close()    \n"
      ]
    },
    {
      "cell_type": "code",
      "execution_count": null,
      "metadata": {
        "colab": {
          "base_uri": "https://localhost:8080/",
          "height": 269
        },
        "id": "QgaO1UjsOSs3",
        "outputId": "28a430bb-d2d1-4215-8b39-66538cc1b190"
      },
      "outputs": [
        {
          "ename": "NameError",
          "evalue": "ignored",
          "output_type": "error",
          "traceback": [
            "\u001b[0;31m---------------------------------------------------------------------------\u001b[0m",
            "\u001b[0;31mNameError\u001b[0m                                 Traceback (most recent call last)",
            "\u001b[0;32m<ipython-input-6-2684117c68c4>\u001b[0m in \u001b[0;36m<module>\u001b[0;34m()\u001b[0m\n\u001b[0;32m----> 1\u001b[0;31m \u001b[0;32mwith\u001b[0m \u001b[0mcodecs\u001b[0m\u001b[0;34m.\u001b[0m\u001b[0mopen\u001b[0m\u001b[0;34m(\u001b[0m\u001b[0;34m'model/abc.txt'\u001b[0m\u001b[0;34m,\u001b[0m \u001b[0;34m\"r\"\u001b[0m\u001b[0;34m,\u001b[0m \u001b[0mencoding\u001b[0m\u001b[0;34m=\u001b[0m\u001b[0;34m'utf-8'\u001b[0m\u001b[0;34m)\u001b[0m \u001b[0;32mas\u001b[0m \u001b[0mf\u001b[0m\u001b[0;34m:\u001b[0m\u001b[0;34m\u001b[0m\u001b[0;34m\u001b[0m\u001b[0m\n\u001b[0m\u001b[1;32m      2\u001b[0m   \u001b[0mlines\u001b[0m \u001b[0;34m=\u001b[0m \u001b[0mf\u001b[0m\u001b[0;34m.\u001b[0m\u001b[0mreadlines\u001b[0m\u001b[0;34m(\u001b[0m\u001b[0;34m)\u001b[0m\u001b[0;34m\u001b[0m\u001b[0;34m\u001b[0m\u001b[0m\n\u001b[1;32m      3\u001b[0m   \u001b[0mlines\u001b[0m \u001b[0;34m=\u001b[0m \u001b[0;34m[\u001b[0m\u001b[0mx\u001b[0m\u001b[0;34m.\u001b[0m\u001b[0mstrip\u001b[0m\u001b[0;34m(\u001b[0m\u001b[0;34m)\u001b[0m \u001b[0;32mfor\u001b[0m \u001b[0mx\u001b[0m \u001b[0;32min\u001b[0m \u001b[0mlines\u001b[0m\u001b[0;34m]\u001b[0m \u001b[0;31m# removing newline\u001b[0m\u001b[0;34m\u001b[0m\u001b[0;34m\u001b[0m\u001b[0m\n\u001b[1;32m      4\u001b[0m   \u001b[0mlines\u001b[0m \u001b[0;34m=\u001b[0m \u001b[0;34m[\u001b[0m\u001b[0mint\u001b[0m\u001b[0;34m(\u001b[0m\u001b[0mi\u001b[0m\u001b[0;34m)\u001b[0m \u001b[0;32mfor\u001b[0m \u001b[0mi\u001b[0m \u001b[0;32min\u001b[0m \u001b[0mlines\u001b[0m\u001b[0;34m]\u001b[0m \u001b[0;31m#convert to integer\u001b[0m\u001b[0;34m\u001b[0m\u001b[0;34m\u001b[0m\u001b[0m\n\u001b[1;32m      5\u001b[0m   \u001b[0;31m#print(lines[2]) # just check what in lines\u001b[0m\u001b[0;34m\u001b[0m\u001b[0;34m\u001b[0m\u001b[0;34m\u001b[0m\u001b[0m\n",
            "\u001b[0;31mNameError\u001b[0m: name 'codecs' is not defined"
          ]
        }
      ],
      "source": [
        "with codecs.open('model/abc.txt', \"r\", encoding='utf-8') as f:\n",
        "  lines = f.readlines()\n",
        "  lines = [x.strip() for x in lines] # removing newline\n",
        "  lines = [int(i) for i in lines] #convert to integer\n",
        "  #print(lines[2]) # just check what in lines\n",
        "  print(lines)"
      ]
    },
    {
      "cell_type": "code",
      "execution_count": null,
      "metadata": {
        "colab": {
          "base_uri": "https://localhost:8080/",
          "height": 269
        },
        "id": "5ASR0mR7QDqc",
        "outputId": "1ed3f3bc-9e4a-4430-8e91-351cdabf1045"
      },
      "outputs": [
        {
          "ename": "NameError",
          "evalue": "ignored",
          "output_type": "error",
          "traceback": [
            "\u001b[0;31m---------------------------------------------------------------------------\u001b[0m",
            "\u001b[0;31mNameError\u001b[0m                                 Traceback (most recent call last)",
            "\u001b[0;32m<ipython-input-7-032dbb42d6da>\u001b[0m in \u001b[0;36m<module>\u001b[0;34m()\u001b[0m\n\u001b[1;32m     10\u001b[0m \u001b[0;34m\u001b[0m\u001b[0m\n\u001b[1;32m     11\u001b[0m \u001b[0;31m# # line 1 points\u001b[0m\u001b[0;34m\u001b[0m\u001b[0;34m\u001b[0m\u001b[0;34m\u001b[0m\u001b[0m\n\u001b[0;32m---> 12\u001b[0;31m \u001b[0mx1\u001b[0m \u001b[0;34m=\u001b[0m \u001b[0mrange\u001b[0m\u001b[0;34m(\u001b[0m\u001b[0mlen\u001b[0m\u001b[0;34m(\u001b[0m\u001b[0mlines\u001b[0m\u001b[0;34m)\u001b[0m\u001b[0;34m)\u001b[0m\u001b[0;34m\u001b[0m\u001b[0;34m\u001b[0m\u001b[0m\n\u001b[0m\u001b[1;32m     13\u001b[0m \u001b[0my1\u001b[0m \u001b[0;34m=\u001b[0m \u001b[0mlines\u001b[0m\u001b[0;34m\u001b[0m\u001b[0;34m\u001b[0m\u001b[0m\n\u001b[1;32m     14\u001b[0m \u001b[0;31m# plotting the line 1 points\u001b[0m\u001b[0;34m\u001b[0m\u001b[0;34m\u001b[0m\u001b[0;34m\u001b[0m\u001b[0m\n",
            "\u001b[0;31mNameError\u001b[0m: name 'lines' is not defined"
          ]
        }
      ],
      "source": [
        "import matplotlib.pyplot as plt\n",
        "# y=np.array(lines)\n",
        "# x=np.array(range(len(lines)))\n",
        "# plt.plot(x,y)\n",
        "# plt.title(\"Traning and validation Loss \")\n",
        "# plt.xlabel(\"No of Epoch\")\n",
        "# plt.ylabel(\"Loss\")\n",
        "# # plt.plot(x,label='Epoch', linestyle = 'dotted')\n",
        "# # plt.plot(y,label='accuracy',linestyle = 'dashed')\n",
        "\n",
        "# # line 1 points\n",
        "x1 = range(len(lines))\n",
        "y1 = lines\n",
        "# plotting the line 1 points\n",
        "plt.plot(x1, y1, label = \"Train Loss\")\n",
        " \n",
        "# line 2 points\n",
        "x2 = range(len(lines))\n",
        "y2 = [4,1]\n",
        "# plotting the line 2 points\n",
        "plt.plot(x2, y2, label = \"Validation Loss\")\n",
        " \n",
        "# naming the x axis\n",
        "plt.xlabel('No of Epoch')\n",
        "# naming the y axis\n",
        "plt.ylabel('Loss')\n",
        "# giving a title to my graph\n",
        "plt.title('Traning and validation Loss')\n",
        " \n",
        "# show a legend on the plot\n",
        "plt.legend()\n",
        " \n",
        "# function to show the plot\n",
        "plt.show()\n",
        "plt.show()\n"
      ]
    },
    {
      "cell_type": "code",
      "execution_count": null,
      "metadata": {
        "id": "8rpSn0JXQXqW"
      },
      "outputs": [],
      "source": [
        "with codecs.open('model/accuracytrain.txt', \"r\", encoding='utf-8') as f:\n",
        "  lines = f.readlines()\n",
        "  lines = [x.strip() for x in lines] # removing newline\n",
        "  lines = [float(i) for i in lines] #convert to float\n",
        "  #print(lines[2]) # just check what in lines\n",
        "  accuracy_train = lines\n",
        "with codecs.open('model/accuracyvalidation.txt', \"r\", encoding='utf-8') as f:\n",
        "  lines = f.readlines()\n",
        "  lines = [x.strip() for x in lines] # removing newline\n",
        "  lines = [float(i) for i in lines] #convert to float\n",
        "  #print(lines[2]) # just check what in lines\n",
        "  accuracy_validation = lines"
      ]
    },
    {
      "cell_type": "code",
      "execution_count": null,
      "metadata": {
        "colab": {
          "base_uri": "https://localhost:8080/",
          "height": 295
        },
        "id": "0WaHZZdppQWV",
        "outputId": "2532c073-0c7e-4349-a7c4-7d990e377bbe"
      },
      "outputs": [
        {
          "data": {
            "image/png": "[encoded data removed]",
            "text/plain": [
              "<Figure size 432x288 with 1 Axes>"
            ]
          },
          "metadata": {},
          "output_type": "display_data"
        }
      ],
      "source": [
        "import matplotlib.pyplot as plt\n",
        "# # line 1 points\n",
        "x1 = range(len(accuracy_train))\n",
        "y1 = accuracy_train\n",
        "# plotting the line 1 points\n",
        "plt.plot(x1, y1, label = \"Train Accuracy\")\n",
        " \n",
        "# line 2 points\n",
        "x2 = range(len(accuracy_validation))\n",
        "y2 = accuracy_validation\n",
        "# plotting the line 2 points\n",
        "plt.plot(x2, y2, label = \"Validation Accuracy\")\n",
        " \n",
        "# naming the x axis\n",
        "plt.xlabel('No of Epoch')\n",
        "# naming the y axis\n",
        "plt.ylabel('Accuracy')\n",
        "# giving a title to my graph\n",
        "plt.title('Traning and validation Accuracy')\n",
        " \n",
        "# show a legend on the plot\n",
        "plt.legend()\n",
        "plt.savefig('plotaccuracy.png', dpi=300, bbox_inches='tight')\n",
        "# function to show the plot\n",
        "plt.show()\n",
        "plt.show()"
      ]
    },
    {
      "cell_type": "code",
      "execution_count": null,
      "metadata": {
        "id": "YwS-evLyqzTK"
      },
      "outputs": [],
      "source": [
        "del accuracy_validation[0]"
      ]
    },
    {
      "cell_type": "code",
      "execution_count": null,
      "metadata": {
        "id": "owK8LkT3qk9L"
      },
      "outputs": [],
      "source": [
        "with codecs.open('model/losstrain.txt', \"r\", encoding='utf-8') as f:\n",
        "  lines = f.readlines()\n",
        "  lines = [x.strip() for x in lines] # removing newline\n",
        "  lines = [float(i) for i in lines] #convert to float\n",
        "  #print(lines[2]) # just check what in lines\n",
        "  loss_train = lines\n",
        "with codecs.open('model/lossvalidation.txt', \"r\", encoding='utf-8') as f:\n",
        "  lines = f.readlines()\n",
        "  lines = [x.strip() for x in lines] # removing newline\n",
        "  lines = [float(i) for i in lines] #convert to float\n",
        "  #print(lines[2]) # just check what in lines\n",
        "  loss_validation = lines"
      ]
    },
    {
      "cell_type": "code",
      "execution_count": null,
      "metadata": {
        "colab": {
          "base_uri": "https://localhost:8080/",
          "height": 295
        },
        "id": "LfFevPTcs3PR",
        "outputId": "15088d6f-2a74-4894-95b1-aaefbfd23ec3"
      },
      "outputs": [
        {
          "data": {
            "image/png": "[encoded data removed]",
            "text/plain": [
              "<Figure size 432x288 with 1 Axes>"
            ]
          },
          "metadata": {},
          "output_type": "display_data"
        }
      ],
      "source": [
        "import matplotlib.pyplot as plt\n",
        "# # line 1 points\n",
        "x1 = range(len(loss_train))\n",
        "y1 = loss_train\n",
        "# plotting the line 1 points\n",
        "plt.plot(x1, y1, label = \"Train loss\")\n",
        " \n",
        "# line 2 points\n",
        "x2 = range(len(loss_validation))\n",
        "y2 = loss_validation\n",
        "# plotting the line 2 points\n",
        "plt.plot(x2, y2, label = \"Validation loss\")\n",
        " \n",
        "# naming the x axis\n",
        "plt.xlabel('No of Epoch')\n",
        "# naming the y axis\n",
        "plt.ylabel('loss')\n",
        "# giving a title to my graph\n",
        "plt.title('Traning and validation loss')\n",
        " \n",
        "# show a legend on the plot\n",
        "plt.legend()\n",
        "plt.savefig('plotloss.png', dpi=300, bbox_inches='tight')\n",
        "# function to show the plot\n",
        "plt.show()\n",
        "plt.show()"
      ]
    },
    {
      "cell_type": "code",
      "execution_count": null,
      "metadata": {
        "id": "FqrmZwmYE-xG"
      },
      "outputs": [],
      "source": [
        "with codecs.open('model/charerrrate.txt', \"r\", encoding='utf-8') as f:\n",
        "  lines = f.readlines()\n",
        "  lines = [x.strip() for x in lines] # removing newline\n",
        "  lines = [float(i) for i in lines] #convert to float\n",
        "  #print(lines[2]) # just check what in lines\n",
        "  char_errrate= lines"
      ]
    },
    {
      "cell_type": "code",
      "execution_count": null,
      "metadata": {
        "colab": {
          "base_uri": "https://localhost:8080/",
          "height": 295
        },
        "id": "CsryGT0mFiPZ",
        "outputId": "6facfa97-bd4f-4e7c-dec3-892847cd0ec0"
      },
      "outputs": [
        {
          "data": {
            "image/png": "[encoded data removed]",
            "text/plain": [
              "<Figure size 432x288 with 1 Axes>"
            ]
          },
          "metadata": {},
          "output_type": "display_data"
        }
      ],
      "source": [
        "import matplotlib.pyplot as plt\n",
        "# # line 1 points\n",
        "x1 = range(len(char_errrate))\n",
        "y1 = char_errrate\n",
        "# plotting the line 1 points\n",
        "plt.plot(x1, y1, label = \"Character error rate\")\n",
        " \n",
        " \n",
        "# naming the x axis\n",
        "plt.xlabel('No of Epoch')\n",
        "# naming the y axis\n",
        "plt.ylabel('error rate ')\n",
        "# giving a title to my graph\n",
        "plt.title('Character Error Rate')\n",
        " \n",
        "# show a legend on the plot\n",
        "plt.legend()\n",
        " \n",
        "# function to show the plot\n",
        "plt.savefig('plotCER.png', dpi=300, bbox_inches='tight')\n",
        "plt.show()\n",
        "plt.show()"
      ]
    },
    {
      "cell_type": "code",
      "execution_count": null,
      "metadata": {
        "id": "gKynNeqCf1j-"
      },
      "outputs": [],
      "source": [
        "# latestSnapshot = tf.train.latest_checkpoint(modelDir)\n",
        "# latestSnpshot"
      ]
    },
    {
      "cell_type": "code",
      "execution_count": null,
      "metadata": {
        "colab": {
          "base_uri": "https://localhost:8080/"
        },
        "id": "mNvsI2B9wULd",
        "outputId": "f8fc49cd-089b-4358-a51c-e1896f010241"
      },
      "outputs": [
        {
          "name": "stdout",
          "output_type": "stream",
          "text": [
            "कमाण्ड दिनुहोस अवस्ता\n",
            "[9, 5, 7]\n",
            "Nearsest command is खोल्नु\n"
          ]
        }
      ],
      "source": [
        "# import editdistance\n",
        "# commands = ['बन्द गर्नु','खोल्नु','अवस्ता बताउनु'] \n",
        "# user_command = input('कमाण्ड दिनुहोस ')\n",
        "# distances= []\n",
        "\n",
        "# for count,command in enumerate(commands):\n",
        "#   distance = editdistance.eval(user_command, command)\n",
        "#   distances.append(distance)\n",
        "# print(distances)\n",
        "# min_value = min(distances)\n",
        "# min_index = distances.index(min_value) \n",
        "\n",
        "# print('Nearsest command is',commands[min_index])\n",
        "\n"
      ]
    },
    {
      "cell_type": "code",
      "source": [
        "shp = [12,0]"
      ],
      "metadata": {
        "id": "3HOonjr9Ape5"
      },
      "execution_count": null,
      "outputs": []
    },
    {
      "cell_type": "code",
      "source": [
        "shp"
      ],
      "metadata": {
        "colab": {
          "base_uri": "https://localhost:8080/"
        },
        "id": "zGcyNQn3Arxs",
        "outputId": "60fd2578-9d84-45af-e271-d91e97bc96f6"
      },
      "execution_count": null,
      "outputs": [
        {
          "output_type": "execute_result",
          "data": {
            "text/plain": [
              "[12, 0]"
            ]
          },
          "metadata": {},
          "execution_count": 21
        }
      ]
    },
    {
      "cell_type": "code",
      "source": [],
      "metadata": {
        "id": "fgh8PYfnAvbh"
      },
      "execution_count": null,
      "outputs": []
    }
  ],
  "metadata": {
    "colab": {
      "provenance": []
    },
    "kernelspec": {
      "display_name": "Python 3",
      "name": "python3"
    },
    "language_info": {
      "name": "python"
    }
  },
  "nbformat": 4,
  "nbformat_minor": 0
}